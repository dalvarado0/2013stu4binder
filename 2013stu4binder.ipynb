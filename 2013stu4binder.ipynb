{
  "nbformat": 4,
  "nbformat_minor": 0,
  "metadata": {
    "colab": {
      "name": "Binder.ipynb",
      "provenance": [],
      "collapsed_sections": []
    },
    "kernelspec": {
      "name": "python3",
      "display_name": "Python 3"
    },
    "language_info": {
      "name": "python"
    }
  },
  "cells": [
    {
      "cell_type": "code",
      "metadata": {
        "id": "epGfSbIPfp0A"
      },
      "source": [
        "# David Alejandro Alvarado Villa\n",
        "# \n",
        "# \n"
      ],
      "execution_count": null,
      "outputs": []
    },
    {
      "cell_type": "code",
      "metadata": {
        "colab": {
          "base_uri": "https://localhost:8080/"
        },
        "id": "srXgqJHYTVEz",
        "outputId": "c3ceab2d-2c31-4803-849f-eaaa03497b5c"
      },
      "source": [
        "# \n",
        "# 1. load\n",
        "# \n",
        "import pandas as pd\n",
        "iris = pd.read_csv('2013stu4binder.csv')\n",
        "\n",
        "print('head',iris.head())"
      ],
      "execution_count": 4,
      "outputs": [
        {
          "output_type": "stream",
          "name": "stdout",
          "text": [
            "head                     PROGRAMA_EDUCATIVO  ...  TIPO_CALIFICACIÓN\n",
            "0  Lic. en Mercadotecnia Internacional  ...                  1\n",
            "1  Lic. en Mercadotecnia Internacional  ...                  1\n",
            "2  Lic. en Mercadotecnia Internacional  ...                  1\n",
            "3  Lic. en Mercadotecnia Internacional  ...                  1\n",
            "4  Lic. en Mercadotecnia Internacional  ...                  1\n",
            "\n",
            "[5 rows x 23 columns]\n"
          ]
        }
      ]
    },
    {
      "cell_type": "code",
      "metadata": {
        "colab": {
          "base_uri": "https://localhost:8080/"
        },
        "id": "R_PQJTSGVMA4",
        "outputId": "44bac9d0-033e-41e6-b54b-73e71bf4ddd7"
      },
      "source": [
        "# \n",
        "# metadata\n",
        "# \n",
        "\n",
        "print('type',type(iris))\n",
        "print('-------')\n",
        "print('info\\n',iris.info(verbose=True))\n",
        "print('-------')\n",
        "print('info\\n',iris.info)\n",
        "print('-------')\n",
        "print('keys',iris.keys())\n",
        "print('-------')\n",
        "#vs\n",
        "print('columns',iris.columns)\n"
      ],
      "execution_count": 5,
      "outputs": [
        {
          "output_type": "stream",
          "name": "stdout",
          "text": [
            "type <class 'pandas.core.frame.DataFrame'>\n",
            "-------\n",
            "<class 'pandas.core.frame.DataFrame'>\n",
            "RangeIndex: 44904 entries, 0 to 44903\n",
            "Data columns (total 23 columns):\n",
            " #   Column                           Non-Null Count  Dtype \n",
            "---  ------                           --------------  ----- \n",
            " 0   PROGRAMA_EDUCATIVO               44904 non-null  object\n",
            " 1   DIVISION                         44904 non-null  int64 \n",
            " 2   NIVEL_EDUCATIVO                  44904 non-null  int64 \n",
            " 3   SEXO                             44904 non-null  int64 \n",
            " 4   EDAD                             44904 non-null  int64 \n",
            " 5   ESTADO_CIVIL                     44904 non-null  int64 \n",
            " 6   NUMERO_HIJOS                     44904 non-null  int64 \n",
            " 7   TRABAJA                          44904 non-null  int64 \n",
            " 8   SOSTEN_ECONOMICO                 44904 non-null  int64 \n",
            " 9   INTERNET                         44904 non-null  int64 \n",
            " 10  INTERNET_LUGAR                   44904 non-null  int64 \n",
            " 11  EQUIPO_COMPUTO                   44904 non-null  int64 \n",
            " 12  EQUIPO_COMPUTO_DESC              44904 non-null  int64 \n",
            " 13  EXPERIENCIA_MODALIDAD            44904 non-null  int64 \n",
            " 14  MODALIDAD_ESTUDIOS_BACHILLERATO  44904 non-null  int64 \n",
            " 15  PROMEDIO_BACHILLERATO            44904 non-null  int64 \n",
            " 16  HORAS_ESTUDIO_SEMANA             44904 non-null  int64 \n",
            " 17  DISCAPACIDAD                     44904 non-null  int64 \n",
            " 18  PERIODO_ESCOLAR                  44904 non-null  int64 \n",
            " 19  ASIGNATURA                       44904 non-null  object\n",
            " 20  SEMESTRE                         44904 non-null  int64 \n",
            " 21  CALIFICACION                     44904 non-null  int64 \n",
            " 22  TIPO_CALIFICACIÓN                44904 non-null  int64 \n",
            "dtypes: int64(21), object(2)\n",
            "memory usage: 7.9+ MB\n",
            "info\n",
            " None\n",
            "-------\n",
            "info\n",
            " <bound method DataFrame.info of                                   PROGRAMA_EDUCATIVO  ...  TIPO_CALIFICACIÓN\n",
            "0                Lic. en Mercadotecnia Internacional  ...                  1\n",
            "1                Lic. en Mercadotecnia Internacional  ...                  1\n",
            "2                Lic. en Mercadotecnia Internacional  ...                  1\n",
            "3                Lic. en Mercadotecnia Internacional  ...                  1\n",
            "4                Lic. en Mercadotecnia Internacional  ...                  1\n",
            "...                                              ...  ...                ...\n",
            "44899       Lic. en Administración y Gestión Pública  ...                  1\n",
            "44900       Lic. en Administración y Gestión Pública  ...                  1\n",
            "44901  Lic. en Administración de Empresas Turísticas  ...                  1\n",
            "44902                                Lic. en Derecho  ...                  1\n",
            "44903                                Lic. en Derecho  ...                  1\n",
            "\n",
            "[44904 rows x 23 columns]>\n",
            "-------\n",
            "keys Index(['PROGRAMA_EDUCATIVO', 'DIVISION', 'NIVEL_EDUCATIVO', 'SEXO', 'EDAD',\n",
            "       'ESTADO_CIVIL', 'NUMERO_HIJOS', 'TRABAJA', 'SOSTEN_ECONOMICO',\n",
            "       'INTERNET', 'INTERNET_LUGAR', 'EQUIPO_COMPUTO', 'EQUIPO_COMPUTO_DESC',\n",
            "       'EXPERIENCIA_MODALIDAD', 'MODALIDAD_ESTUDIOS_BACHILLERATO',\n",
            "       'PROMEDIO_BACHILLERATO', 'HORAS_ESTUDIO_SEMANA', 'DISCAPACIDAD',\n",
            "       'PERIODO_ESCOLAR', 'ASIGNATURA', 'SEMESTRE', 'CALIFICACION',\n",
            "       'TIPO_CALIFICACIÓN'],\n",
            "      dtype='object')\n",
            "-------\n",
            "columns Index(['PROGRAMA_EDUCATIVO', 'DIVISION', 'NIVEL_EDUCATIVO', 'SEXO', 'EDAD',\n",
            "       'ESTADO_CIVIL', 'NUMERO_HIJOS', 'TRABAJA', 'SOSTEN_ECONOMICO',\n",
            "       'INTERNET', 'INTERNET_LUGAR', 'EQUIPO_COMPUTO', 'EQUIPO_COMPUTO_DESC',\n",
            "       'EXPERIENCIA_MODALIDAD', 'MODALIDAD_ESTUDIOS_BACHILLERATO',\n",
            "       'PROMEDIO_BACHILLERATO', 'HORAS_ESTUDIO_SEMANA', 'DISCAPACIDAD',\n",
            "       'PERIODO_ESCOLAR', 'ASIGNATURA', 'SEMESTRE', 'CALIFICACION',\n",
            "       'TIPO_CALIFICACIÓN'],\n",
            "      dtype='object')\n"
          ]
        }
      ]
    },
    {
      "cell_type": "code",
      "metadata": {
        "colab": {
          "base_uri": "https://localhost:8080/"
        },
        "id": "lNFzDs2_apZK",
        "outputId": "9ebf35c8-2fd8-4f19-91a5-dac5239a8221"
      },
      "source": [
        "# \n",
        "# may analize each feature\n",
        "# \n",
        "print('mean',iris[\"SEMESTRE\"].mean())\n",
        "print('value_counts\\n',iris[\"PERIODO_ESCOLAR\"].value_counts().head())\n",
        "print('shape',iris[\"INTERNET\"].value_counts().shape)\n",
        "print('value_counts\\n',iris[\"NUMERO_HIJOS\"].value_counts().head())\n"
      ],
      "execution_count": 6,
      "outputs": [
        {
          "output_type": "stream",
          "name": "stdout",
          "text": [
            "mean 2.236081418136469\n",
            "value_counts\n",
            " 0    14220\n",
            "1    10279\n",
            "2     7899\n",
            "3     6794\n",
            "4     5712\n",
            "Name: PERIODO_ESCOLAR, dtype: int64\n",
            "shape (2,)\n",
            "value_counts\n",
            " 0    37486\n",
            "1     5802\n",
            "2     1616\n",
            "Name: NUMERO_HIJOS, dtype: int64\n"
          ]
        }
      ]
    },
    {
      "cell_type": "code",
      "metadata": {
        "colab": {
          "base_uri": "https://localhost:8080/"
        },
        "id": "hUCxraxnaHyp",
        "outputId": "f536a4c2-e7fa-4b0c-b10d-40a4d4a423b2"
      },
      "source": [
        "# \n",
        "# descriptive stats\n",
        "# \n",
        "\n",
        "print('describe',iris.describe())\n"
      ],
      "execution_count": 7,
      "outputs": [
        {
          "output_type": "stream",
          "name": "stdout",
          "text": [
            "describe            DIVISION  NIVEL_EDUCATIVO  ...  CALIFICACION  TIPO_CALIFICACIÓN\n",
            "count  44904.000000     44904.000000  ...  44904.000000       44904.000000\n",
            "mean       1.105180         0.031534  ...      1.630657           0.986260\n",
            "std        0.676307         0.174758  ...      0.482632           0.116413\n",
            "min        0.000000         0.000000  ...      1.000000           0.000000\n",
            "25%        1.000000         0.000000  ...      1.000000           1.000000\n",
            "50%        1.000000         0.000000  ...      2.000000           1.000000\n",
            "75%        2.000000         0.000000  ...      2.000000           1.000000\n",
            "max        2.000000         1.000000  ...      2.000000           1.000000\n",
            "\n",
            "[8 rows x 21 columns]\n"
          ]
        }
      ]
    },
    {
      "cell_type": "code",
      "metadata": {
        "colab": {
          "base_uri": "https://localhost:8080/",
          "height": 666
        },
        "id": "mV442Fo3coz3",
        "outputId": "a9912dd3-f54a-475e-c197-80836ab0cd7f"
      },
      "source": [
        "# \n",
        "# feature means by class\n",
        "# \n",
        "\n",
        "iris.groupby(by = \"ASIGNATURA\").mean()\n"
      ],
      "execution_count": 8,
      "outputs": [
        {
          "output_type": "execute_result",
          "data": {
            "text/html": [
              "<div>\n",
              "<style scoped>\n",
              "    .dataframe tbody tr th:only-of-type {\n",
              "        vertical-align: middle;\n",
              "    }\n",
              "\n",
              "    .dataframe tbody tr th {\n",
              "        vertical-align: top;\n",
              "    }\n",
              "\n",
              "    .dataframe thead th {\n",
              "        text-align: right;\n",
              "    }\n",
              "</style>\n",
              "<table border=\"1\" class=\"dataframe\">\n",
              "  <thead>\n",
              "    <tr style=\"text-align: right;\">\n",
              "      <th></th>\n",
              "      <th>DIVISION</th>\n",
              "      <th>NIVEL_EDUCATIVO</th>\n",
              "      <th>SEXO</th>\n",
              "      <th>EDAD</th>\n",
              "      <th>ESTADO_CIVIL</th>\n",
              "      <th>NUMERO_HIJOS</th>\n",
              "      <th>TRABAJA</th>\n",
              "      <th>SOSTEN_ECONOMICO</th>\n",
              "      <th>INTERNET</th>\n",
              "      <th>INTERNET_LUGAR</th>\n",
              "      <th>EQUIPO_COMPUTO</th>\n",
              "      <th>EQUIPO_COMPUTO_DESC</th>\n",
              "      <th>EXPERIENCIA_MODALIDAD</th>\n",
              "      <th>MODALIDAD_ESTUDIOS_BACHILLERATO</th>\n",
              "      <th>PROMEDIO_BACHILLERATO</th>\n",
              "      <th>HORAS_ESTUDIO_SEMANA</th>\n",
              "      <th>DISCAPACIDAD</th>\n",
              "      <th>PERIODO_ESCOLAR</th>\n",
              "      <th>SEMESTRE</th>\n",
              "      <th>CALIFICACION</th>\n",
              "      <th>TIPO_CALIFICACIÓN</th>\n",
              "    </tr>\n",
              "    <tr>\n",
              "      <th>ASIGNATURA</th>\n",
              "      <th></th>\n",
              "      <th></th>\n",
              "      <th></th>\n",
              "      <th></th>\n",
              "      <th></th>\n",
              "      <th></th>\n",
              "      <th></th>\n",
              "      <th></th>\n",
              "      <th></th>\n",
              "      <th></th>\n",
              "      <th></th>\n",
              "      <th></th>\n",
              "      <th></th>\n",
              "      <th></th>\n",
              "      <th></th>\n",
              "      <th></th>\n",
              "      <th></th>\n",
              "      <th></th>\n",
              "      <th></th>\n",
              "      <th></th>\n",
              "      <th></th>\n",
              "    </tr>\n",
              "  </thead>\n",
              "  <tbody>\n",
              "    <tr>\n",
              "      <th>Actos y sociedades mercantiles</th>\n",
              "      <td>1.0</td>\n",
              "      <td>0.000000</td>\n",
              "      <td>0.503497</td>\n",
              "      <td>1.582751</td>\n",
              "      <td>1.582751</td>\n",
              "      <td>0.179487</td>\n",
              "      <td>0.759907</td>\n",
              "      <td>4.589744</td>\n",
              "      <td>1.000000</td>\n",
              "      <td>0.165501</td>\n",
              "      <td>0.979021</td>\n",
              "      <td>1.421911</td>\n",
              "      <td>0.351981</td>\n",
              "      <td>1.818182</td>\n",
              "      <td>1.675991</td>\n",
              "      <td>1.552448</td>\n",
              "      <td>0.034965</td>\n",
              "      <td>1.286713</td>\n",
              "      <td>2.0</td>\n",
              "      <td>1.780886</td>\n",
              "      <td>0.972028</td>\n",
              "    </tr>\n",
              "    <tr>\n",
              "      <th>Administración Estratégica</th>\n",
              "      <td>1.0</td>\n",
              "      <td>0.000000</td>\n",
              "      <td>0.666667</td>\n",
              "      <td>1.666667</td>\n",
              "      <td>1.000000</td>\n",
              "      <td>0.000000</td>\n",
              "      <td>1.000000</td>\n",
              "      <td>5.000000</td>\n",
              "      <td>1.000000</td>\n",
              "      <td>0.000000</td>\n",
              "      <td>1.000000</td>\n",
              "      <td>0.000000</td>\n",
              "      <td>0.666667</td>\n",
              "      <td>2.000000</td>\n",
              "      <td>1.333333</td>\n",
              "      <td>1.000000</td>\n",
              "      <td>0.000000</td>\n",
              "      <td>4.000000</td>\n",
              "      <td>6.0</td>\n",
              "      <td>2.000000</td>\n",
              "      <td>1.000000</td>\n",
              "    </tr>\n",
              "    <tr>\n",
              "      <th>Administración Pública</th>\n",
              "      <td>1.0</td>\n",
              "      <td>0.021978</td>\n",
              "      <td>0.615385</td>\n",
              "      <td>1.296703</td>\n",
              "      <td>1.901099</td>\n",
              "      <td>0.164835</td>\n",
              "      <td>0.912088</td>\n",
              "      <td>4.747253</td>\n",
              "      <td>1.000000</td>\n",
              "      <td>0.318681</td>\n",
              "      <td>1.000000</td>\n",
              "      <td>1.384615</td>\n",
              "      <td>0.439560</td>\n",
              "      <td>1.714286</td>\n",
              "      <td>1.725275</td>\n",
              "      <td>1.637363</td>\n",
              "      <td>0.032967</td>\n",
              "      <td>0.560440</td>\n",
              "      <td>1.0</td>\n",
              "      <td>1.571429</td>\n",
              "      <td>1.000000</td>\n",
              "    </tr>\n",
              "    <tr>\n",
              "      <th>Administración Tributaria</th>\n",
              "      <td>1.0</td>\n",
              "      <td>0.000000</td>\n",
              "      <td>0.539474</td>\n",
              "      <td>1.703947</td>\n",
              "      <td>1.559211</td>\n",
              "      <td>0.184211</td>\n",
              "      <td>0.802632</td>\n",
              "      <td>4.611842</td>\n",
              "      <td>1.000000</td>\n",
              "      <td>0.190789</td>\n",
              "      <td>0.973684</td>\n",
              "      <td>1.434211</td>\n",
              "      <td>0.355263</td>\n",
              "      <td>1.802632</td>\n",
              "      <td>1.638158</td>\n",
              "      <td>1.578947</td>\n",
              "      <td>0.039474</td>\n",
              "      <td>4.000000</td>\n",
              "      <td>5.0</td>\n",
              "      <td>2.000000</td>\n",
              "      <td>1.000000</td>\n",
              "    </tr>\n",
              "    <tr>\n",
              "      <th>Administración activa</th>\n",
              "      <td>1.0</td>\n",
              "      <td>0.024631</td>\n",
              "      <td>0.669951</td>\n",
              "      <td>1.246305</td>\n",
              "      <td>1.709360</td>\n",
              "      <td>0.226601</td>\n",
              "      <td>0.793103</td>\n",
              "      <td>4.586207</td>\n",
              "      <td>0.995074</td>\n",
              "      <td>0.275862</td>\n",
              "      <td>0.990148</td>\n",
              "      <td>1.211823</td>\n",
              "      <td>0.354680</td>\n",
              "      <td>1.724138</td>\n",
              "      <td>1.605911</td>\n",
              "      <td>1.364532</td>\n",
              "      <td>0.024631</td>\n",
              "      <td>2.108374</td>\n",
              "      <td>3.0</td>\n",
              "      <td>1.822660</td>\n",
              "      <td>0.995074</td>\n",
              "    </tr>\n",
              "    <tr>\n",
              "      <th>...</th>\n",
              "      <td>...</td>\n",
              "      <td>...</td>\n",
              "      <td>...</td>\n",
              "      <td>...</td>\n",
              "      <td>...</td>\n",
              "      <td>...</td>\n",
              "      <td>...</td>\n",
              "      <td>...</td>\n",
              "      <td>...</td>\n",
              "      <td>...</td>\n",
              "      <td>...</td>\n",
              "      <td>...</td>\n",
              "      <td>...</td>\n",
              "      <td>...</td>\n",
              "      <td>...</td>\n",
              "      <td>...</td>\n",
              "      <td>...</td>\n",
              "      <td>...</td>\n",
              "      <td>...</td>\n",
              "      <td>...</td>\n",
              "      <td>...</td>\n",
              "    </tr>\n",
              "    <tr>\n",
              "      <th>Ética y Desarrollo</th>\n",
              "      <td>1.0</td>\n",
              "      <td>0.080000</td>\n",
              "      <td>0.720000</td>\n",
              "      <td>1.400000</td>\n",
              "      <td>1.920000</td>\n",
              "      <td>0.280000</td>\n",
              "      <td>0.960000</td>\n",
              "      <td>4.880000</td>\n",
              "      <td>1.000000</td>\n",
              "      <td>0.360000</td>\n",
              "      <td>1.000000</td>\n",
              "      <td>1.680000</td>\n",
              "      <td>0.520000</td>\n",
              "      <td>1.760000</td>\n",
              "      <td>1.520000</td>\n",
              "      <td>1.520000</td>\n",
              "      <td>0.040000</td>\n",
              "      <td>3.080000</td>\n",
              "      <td>4.0</td>\n",
              "      <td>1.640000</td>\n",
              "      <td>1.000000</td>\n",
              "    </tr>\n",
              "    <tr>\n",
              "      <th>Ética y salud</th>\n",
              "      <td>2.0</td>\n",
              "      <td>0.018229</td>\n",
              "      <td>0.765625</td>\n",
              "      <td>1.338542</td>\n",
              "      <td>1.757812</td>\n",
              "      <td>0.250000</td>\n",
              "      <td>0.729167</td>\n",
              "      <td>4.580729</td>\n",
              "      <td>0.997396</td>\n",
              "      <td>0.304688</td>\n",
              "      <td>0.973958</td>\n",
              "      <td>1.471354</td>\n",
              "      <td>0.356771</td>\n",
              "      <td>1.776042</td>\n",
              "      <td>1.687500</td>\n",
              "      <td>1.695312</td>\n",
              "      <td>0.010417</td>\n",
              "      <td>1.445312</td>\n",
              "      <td>2.0</td>\n",
              "      <td>1.789062</td>\n",
              "      <td>0.994792</td>\n",
              "    </tr>\n",
              "    <tr>\n",
              "      <th>Ética y valores</th>\n",
              "      <td>1.0</td>\n",
              "      <td>0.000000</td>\n",
              "      <td>0.272727</td>\n",
              "      <td>1.363636</td>\n",
              "      <td>1.863636</td>\n",
              "      <td>0.045455</td>\n",
              "      <td>0.818182</td>\n",
              "      <td>4.500000</td>\n",
              "      <td>1.000000</td>\n",
              "      <td>0.000000</td>\n",
              "      <td>0.909091</td>\n",
              "      <td>1.181818</td>\n",
              "      <td>0.454545</td>\n",
              "      <td>1.681818</td>\n",
              "      <td>1.909091</td>\n",
              "      <td>1.454545</td>\n",
              "      <td>0.000000</td>\n",
              "      <td>3.681818</td>\n",
              "      <td>5.0</td>\n",
              "      <td>2.000000</td>\n",
              "      <td>1.000000</td>\n",
              "    </tr>\n",
              "    <tr>\n",
              "      <th>Ética, ciudadanía y sustentabilidad</th>\n",
              "      <td>1.0</td>\n",
              "      <td>0.000000</td>\n",
              "      <td>0.800000</td>\n",
              "      <td>1.600000</td>\n",
              "      <td>1.733333</td>\n",
              "      <td>0.066667</td>\n",
              "      <td>0.866667</td>\n",
              "      <td>4.733333</td>\n",
              "      <td>1.000000</td>\n",
              "      <td>0.200000</td>\n",
              "      <td>1.000000</td>\n",
              "      <td>1.066667</td>\n",
              "      <td>0.200000</td>\n",
              "      <td>1.800000</td>\n",
              "      <td>1.666667</td>\n",
              "      <td>1.666667</td>\n",
              "      <td>0.000000</td>\n",
              "      <td>2.866667</td>\n",
              "      <td>4.0</td>\n",
              "      <td>1.800000</td>\n",
              "      <td>1.000000</td>\n",
              "    </tr>\n",
              "    <tr>\n",
              "      <th>Óptica, electricidad y magnetismo</th>\n",
              "      <td>2.0</td>\n",
              "      <td>0.031250</td>\n",
              "      <td>0.437500</td>\n",
              "      <td>0.625000</td>\n",
              "      <td>1.062500</td>\n",
              "      <td>0.093750</td>\n",
              "      <td>0.843750</td>\n",
              "      <td>4.875000</td>\n",
              "      <td>1.000000</td>\n",
              "      <td>0.000000</td>\n",
              "      <td>1.000000</td>\n",
              "      <td>1.562500</td>\n",
              "      <td>0.375000</td>\n",
              "      <td>1.718750</td>\n",
              "      <td>1.562500</td>\n",
              "      <td>1.937500</td>\n",
              "      <td>0.031250</td>\n",
              "      <td>2.625000</td>\n",
              "      <td>3.0</td>\n",
              "      <td>1.656250</td>\n",
              "      <td>0.968750</td>\n",
              "    </tr>\n",
              "  </tbody>\n",
              "</table>\n",
              "<p>570 rows × 21 columns</p>\n",
              "</div>"
            ],
            "text/plain": [
              "                                     DIVISION  ...  TIPO_CALIFICACIÓN\n",
              "ASIGNATURA                                     ...                   \n",
              "Actos y sociedades mercantiles            1.0  ...           0.972028\n",
              "Administración Estratégica                1.0  ...           1.000000\n",
              "Administración Pública                    1.0  ...           1.000000\n",
              "Administración Tributaria                 1.0  ...           1.000000\n",
              "Administración activa                     1.0  ...           0.995074\n",
              "...                                       ...  ...                ...\n",
              "Ética y Desarrollo                        1.0  ...           1.000000\n",
              "Ética y salud                             2.0  ...           0.994792\n",
              "Ética y valores                           1.0  ...           1.000000\n",
              "Ética, ciudadanía y sustentabilidad       1.0  ...           1.000000\n",
              "Óptica, electricidad y magnetismo         2.0  ...           0.968750\n",
              "\n",
              "[570 rows x 21 columns]"
            ]
          },
          "metadata": {},
          "execution_count": 8
        }
      ]
    },
    {
      "cell_type": "code",
      "metadata": {
        "colab": {
          "base_uri": "https://localhost:8080/",
          "height": 344
        },
        "id": "NthLDMHLcwaV",
        "outputId": "6a144579-1a02-4349-e496-5b82c9def6cf"
      },
      "source": [
        "# \n",
        "# ASIGNATURA mean \n",
        "# \n",
        "\n",
        "iris.groupby(by = \"ASIGNATURA\").mean().tail()\n"
      ],
      "execution_count": 9,
      "outputs": [
        {
          "output_type": "execute_result",
          "data": {
            "text/html": [
              "<div>\n",
              "<style scoped>\n",
              "    .dataframe tbody tr th:only-of-type {\n",
              "        vertical-align: middle;\n",
              "    }\n",
              "\n",
              "    .dataframe tbody tr th {\n",
              "        vertical-align: top;\n",
              "    }\n",
              "\n",
              "    .dataframe thead th {\n",
              "        text-align: right;\n",
              "    }\n",
              "</style>\n",
              "<table border=\"1\" class=\"dataframe\">\n",
              "  <thead>\n",
              "    <tr style=\"text-align: right;\">\n",
              "      <th></th>\n",
              "      <th>DIVISION</th>\n",
              "      <th>NIVEL_EDUCATIVO</th>\n",
              "      <th>SEXO</th>\n",
              "      <th>EDAD</th>\n",
              "      <th>ESTADO_CIVIL</th>\n",
              "      <th>NUMERO_HIJOS</th>\n",
              "      <th>TRABAJA</th>\n",
              "      <th>SOSTEN_ECONOMICO</th>\n",
              "      <th>INTERNET</th>\n",
              "      <th>INTERNET_LUGAR</th>\n",
              "      <th>EQUIPO_COMPUTO</th>\n",
              "      <th>EQUIPO_COMPUTO_DESC</th>\n",
              "      <th>EXPERIENCIA_MODALIDAD</th>\n",
              "      <th>MODALIDAD_ESTUDIOS_BACHILLERATO</th>\n",
              "      <th>PROMEDIO_BACHILLERATO</th>\n",
              "      <th>HORAS_ESTUDIO_SEMANA</th>\n",
              "      <th>DISCAPACIDAD</th>\n",
              "      <th>PERIODO_ESCOLAR</th>\n",
              "      <th>SEMESTRE</th>\n",
              "      <th>CALIFICACION</th>\n",
              "      <th>TIPO_CALIFICACIÓN</th>\n",
              "    </tr>\n",
              "    <tr>\n",
              "      <th>ASIGNATURA</th>\n",
              "      <th></th>\n",
              "      <th></th>\n",
              "      <th></th>\n",
              "      <th></th>\n",
              "      <th></th>\n",
              "      <th></th>\n",
              "      <th></th>\n",
              "      <th></th>\n",
              "      <th></th>\n",
              "      <th></th>\n",
              "      <th></th>\n",
              "      <th></th>\n",
              "      <th></th>\n",
              "      <th></th>\n",
              "      <th></th>\n",
              "      <th></th>\n",
              "      <th></th>\n",
              "      <th></th>\n",
              "      <th></th>\n",
              "      <th></th>\n",
              "      <th></th>\n",
              "    </tr>\n",
              "  </thead>\n",
              "  <tbody>\n",
              "    <tr>\n",
              "      <th>Ética y Desarrollo</th>\n",
              "      <td>1.0</td>\n",
              "      <td>0.080000</td>\n",
              "      <td>0.720000</td>\n",
              "      <td>1.400000</td>\n",
              "      <td>1.920000</td>\n",
              "      <td>0.280000</td>\n",
              "      <td>0.960000</td>\n",
              "      <td>4.880000</td>\n",
              "      <td>1.000000</td>\n",
              "      <td>0.360000</td>\n",
              "      <td>1.000000</td>\n",
              "      <td>1.680000</td>\n",
              "      <td>0.520000</td>\n",
              "      <td>1.760000</td>\n",
              "      <td>1.520000</td>\n",
              "      <td>1.520000</td>\n",
              "      <td>0.040000</td>\n",
              "      <td>3.080000</td>\n",
              "      <td>4.0</td>\n",
              "      <td>1.640000</td>\n",
              "      <td>1.000000</td>\n",
              "    </tr>\n",
              "    <tr>\n",
              "      <th>Ética y salud</th>\n",
              "      <td>2.0</td>\n",
              "      <td>0.018229</td>\n",
              "      <td>0.765625</td>\n",
              "      <td>1.338542</td>\n",
              "      <td>1.757812</td>\n",
              "      <td>0.250000</td>\n",
              "      <td>0.729167</td>\n",
              "      <td>4.580729</td>\n",
              "      <td>0.997396</td>\n",
              "      <td>0.304688</td>\n",
              "      <td>0.973958</td>\n",
              "      <td>1.471354</td>\n",
              "      <td>0.356771</td>\n",
              "      <td>1.776042</td>\n",
              "      <td>1.687500</td>\n",
              "      <td>1.695312</td>\n",
              "      <td>0.010417</td>\n",
              "      <td>1.445312</td>\n",
              "      <td>2.0</td>\n",
              "      <td>1.789062</td>\n",
              "      <td>0.994792</td>\n",
              "    </tr>\n",
              "    <tr>\n",
              "      <th>Ética y valores</th>\n",
              "      <td>1.0</td>\n",
              "      <td>0.000000</td>\n",
              "      <td>0.272727</td>\n",
              "      <td>1.363636</td>\n",
              "      <td>1.863636</td>\n",
              "      <td>0.045455</td>\n",
              "      <td>0.818182</td>\n",
              "      <td>4.500000</td>\n",
              "      <td>1.000000</td>\n",
              "      <td>0.000000</td>\n",
              "      <td>0.909091</td>\n",
              "      <td>1.181818</td>\n",
              "      <td>0.454545</td>\n",
              "      <td>1.681818</td>\n",
              "      <td>1.909091</td>\n",
              "      <td>1.454545</td>\n",
              "      <td>0.000000</td>\n",
              "      <td>3.681818</td>\n",
              "      <td>5.0</td>\n",
              "      <td>2.000000</td>\n",
              "      <td>1.000000</td>\n",
              "    </tr>\n",
              "    <tr>\n",
              "      <th>Ética, ciudadanía y sustentabilidad</th>\n",
              "      <td>1.0</td>\n",
              "      <td>0.000000</td>\n",
              "      <td>0.800000</td>\n",
              "      <td>1.600000</td>\n",
              "      <td>1.733333</td>\n",
              "      <td>0.066667</td>\n",
              "      <td>0.866667</td>\n",
              "      <td>4.733333</td>\n",
              "      <td>1.000000</td>\n",
              "      <td>0.200000</td>\n",
              "      <td>1.000000</td>\n",
              "      <td>1.066667</td>\n",
              "      <td>0.200000</td>\n",
              "      <td>1.800000</td>\n",
              "      <td>1.666667</td>\n",
              "      <td>1.666667</td>\n",
              "      <td>0.000000</td>\n",
              "      <td>2.866667</td>\n",
              "      <td>4.0</td>\n",
              "      <td>1.800000</td>\n",
              "      <td>1.000000</td>\n",
              "    </tr>\n",
              "    <tr>\n",
              "      <th>Óptica, electricidad y magnetismo</th>\n",
              "      <td>2.0</td>\n",
              "      <td>0.031250</td>\n",
              "      <td>0.437500</td>\n",
              "      <td>0.625000</td>\n",
              "      <td>1.062500</td>\n",
              "      <td>0.093750</td>\n",
              "      <td>0.843750</td>\n",
              "      <td>4.875000</td>\n",
              "      <td>1.000000</td>\n",
              "      <td>0.000000</td>\n",
              "      <td>1.000000</td>\n",
              "      <td>1.562500</td>\n",
              "      <td>0.375000</td>\n",
              "      <td>1.718750</td>\n",
              "      <td>1.562500</td>\n",
              "      <td>1.937500</td>\n",
              "      <td>0.031250</td>\n",
              "      <td>2.625000</td>\n",
              "      <td>3.0</td>\n",
              "      <td>1.656250</td>\n",
              "      <td>0.968750</td>\n",
              "    </tr>\n",
              "  </tbody>\n",
              "</table>\n",
              "</div>"
            ],
            "text/plain": [
              "                                     DIVISION  ...  TIPO_CALIFICACIÓN\n",
              "ASIGNATURA                                     ...                   \n",
              "Ética y Desarrollo                        1.0  ...           1.000000\n",
              "Ética y salud                             2.0  ...           0.994792\n",
              "Ética y valores                           1.0  ...           1.000000\n",
              "Ética, ciudadanía y sustentabilidad       1.0  ...           1.000000\n",
              "Óptica, electricidad y magnetismo         2.0  ...           0.968750\n",
              "\n",
              "[5 rows x 21 columns]"
            ]
          },
          "metadata": {},
          "execution_count": 9
        }
      ]
    },
    {
      "cell_type": "code",
      "metadata": {
        "colab": {
          "base_uri": "https://localhost:8080/",
          "height": 397
        },
        "id": "IsP1RZrodEfG",
        "outputId": "707a86bf-3983-4dea-d195-dff30ff8d50e"
      },
      "source": [
        "# \n",
        "#  forEach-feature forEach-label class\n",
        "# \n",
        "\n",
        "iris.groupby(by = \"NUMERO_HIJOS\").mean().plot(kind=\"bar\")\n",
        "\n"
      ],
      "execution_count": 10,
      "outputs": [
        {
          "output_type": "execute_result",
          "data": {
            "text/plain": [
              "<matplotlib.axes._subplots.AxesSubplot at 0x7f0bd91630d0>"
            ]
          },
          "metadata": {},
          "execution_count": 10
        },
        {
          "output_type": "display_data",
          "data": {
            "image/png": "[encoded data removed]",
            "text/plain": [
              "<Figure size 432x288 with 1 Axes>"
            ]
          },
          "metadata": {
            "needs_background": "light"
          }
        }
      ]
    },
    {
      "cell_type": "code",
      "metadata": {
        "colab": {
          "base_uri": "https://localhost:8080/",
          "height": 265
        },
        "id": "foO_CTeLdcsf",
        "outputId": "e5387c16-2ef2-4f23-ec48-9f6cce9c1a0b"
      },
      "source": [
        "# \n",
        "# Proporcion respecto a semetre\n",
        "# \n",
        "\n",
        "import matplotlib.pyplot as plt\n",
        "\n",
        "class_series = iris.groupby('SEMESTRE').size()\n",
        "class_series.name = ''#distribution\n",
        "#plt.pie(class_series)\n",
        "class_series.plot.pie(autopct='%.2f')"
      ],
      "execution_count": 11,
      "outputs": [
        {
          "output_type": "execute_result",
          "data": {
            "text/plain": [
              "<matplotlib.axes._subplots.AxesSubplot at 0x7f0bd8862490>"
            ]
          },
          "metadata": {},
          "execution_count": 11
        },
        {
          "output_type": "display_data",
          "data": {
            "image/png": "[encoded data removed]",
            "text/plain": [
              "<Figure size 432x288 with 1 Axes>"
            ]
          },
          "metadata": {}
        }
      ]
    },
    {
      "cell_type": "code",
      "metadata": {
        "colab": {
          "base_uri": "https://localhost:8080/",
          "height": 265
        },
        "id": "wJS2LYYGj8v-",
        "outputId": "3fc82a24-5ee8-4423-af14-344ba1630651"
      },
      "source": [
        "# Proporcion de acuerdo a numero de hijos\n",
        "\n",
        "class_series = iris.groupby('NUMERO_HIJOS').size()\n",
        "class_series.name = ''#distribution\n",
        "#plt.pie(class_series)\n",
        "class_series.plot.pie(autopct='%.2f')"
      ],
      "execution_count": 12,
      "outputs": [
        {
          "output_type": "execute_result",
          "data": {
            "text/plain": [
              "<matplotlib.axes._subplots.AxesSubplot at 0x7f0bdf41e210>"
            ]
          },
          "metadata": {},
          "execution_count": 12
        },
        {
          "output_type": "display_data",
          "data": {
            "image/png": "[encoded data removed]",
            "text/plain": [
              "<Figure size 432x288 with 1 Axes>"
            ]
          },
          "metadata": {}
        }
      ]
    },
    {
      "cell_type": "code",
      "metadata": {
        "colab": {
          "base_uri": "https://localhost:8080/",
          "height": 265
        },
        "id": "-bfD6WVrkT6w",
        "outputId": "f8abd72b-8b34-4d06-f9be-3328408a21e0"
      },
      "source": [
        "# Masculino Femenino\n",
        "\n",
        "class_series = iris.groupby('SEXO').size()\n",
        "class_series.name = ''#distribution\n",
        "#plt.pie(class_series)\n",
        "class_series.plot.pie(autopct='%.2f')"
      ],
      "execution_count": 13,
      "outputs": [
        {
          "output_type": "execute_result",
          "data": {
            "text/plain": [
              "<matplotlib.axes._subplots.AxesSubplot at 0x7f0bd7fb9650>"
            ]
          },
          "metadata": {},
          "execution_count": 13
        },
        {
          "output_type": "display_data",
          "data": {
            "image/png": "[encoded data removed]",
            "text/plain": [
              "<Figure size 432x288 with 1 Axes>"
            ]
          },
          "metadata": {}
        }
      ]
    },
    {
      "cell_type": "code",
      "metadata": {
        "colab": {
          "base_uri": "https://localhost:8080/",
          "height": 296
        },
        "id": "0IULZI59fVAv",
        "outputId": "6ebac425-ca85-4427-bca2-ae829c43ec8b"
      },
      "source": [
        "# \n",
        "# bi-variate\n",
        "# \n",
        "\n",
        "iris.plot(kind=\"scatter\", x=\"SEMESTRE\", y=\"SOSTEN_ECONOMICO\")\n"
      ],
      "execution_count": 14,
      "outputs": [
        {
          "output_type": "execute_result",
          "data": {
            "text/plain": [
              "<matplotlib.axes._subplots.AxesSubplot at 0x7f0bd7f83fd0>"
            ]
          },
          "metadata": {},
          "execution_count": 14
        },
        {
          "output_type": "display_data",
          "data": {
            "image/png": "[encoded data removed]",
            "text/plain": [
              "<Figure size 432x288 with 1 Axes>"
            ]
          },
          "metadata": {
            "needs_background": "light"
          }
        }
      ]
    },
    {
      "cell_type": "code",
      "metadata": {
        "colab": {
          "base_uri": "https://localhost:8080/",
          "height": 369
        },
        "id": "0hAf9_EOf0H9",
        "outputId": "813c633c-9be0-4684-dcd6-6b30c3683878"
      },
      "source": [
        "# \n",
        "# vs distribution\n",
        "# \n",
        "\n",
        "iris[\"SEMESTRE\"].hist()\n",
        "iris[\"PERIODO_ESCOLAR\"].value_counts()\n"
      ],
      "execution_count": 15,
      "outputs": [
        {
          "output_type": "execute_result",
          "data": {
            "text/plain": [
              "0    14220\n",
              "1    10279\n",
              "2     7899\n",
              "3     6794\n",
              "4     5712\n",
              "Name: PERIODO_ESCOLAR, dtype: int64"
            ]
          },
          "metadata": {},
          "execution_count": 15
        },
        {
          "output_type": "display_data",
          "data": {
            "image/png": "[encoded data removed]",
            "text/plain": [
              "<Figure size 432x288 with 1 Axes>"
            ]
          },
          "metadata": {
            "needs_background": "light"
          }
        }
      ]
    },
    {
      "cell_type": "code",
      "metadata": {
        "colab": {
          "base_uri": "https://localhost:8080/",
          "height": 285
        },
        "id": "fsbqGu-vf3xs",
        "outputId": "5058dd42-516e-4659-e572-b39167515a1a"
      },
      "source": [
        "# \n",
        "# spot outliers\n",
        "# \n",
        "\n",
        "iris.boxplot()     \n"
      ],
      "execution_count": 16,
      "outputs": [
        {
          "output_type": "execute_result",
          "data": {
            "text/plain": [
              "<matplotlib.axes._subplots.AxesSubplot at 0x7f0bd7ef45d0>"
            ]
          },
          "metadata": {},
          "execution_count": 16
        },
        {
          "output_type": "display_data",
          "data": {
            "image/png": "[encoded data removed]",
            "text/plain": [
              "<Figure size 432x288 with 1 Axes>"
            ]
          },
          "metadata": {
            "needs_background": "light"
          }
        }
      ]
    },
    {
      "cell_type": "code",
      "metadata": {
        "colab": {
          "base_uri": "https://localhost:8080/",
          "height": 402
        },
        "id": "s3LCSWvOh1U_",
        "outputId": "87b5fd7b-2ebf-4daf-8862-f63b8db3c826"
      },
      "source": [
        "# \n",
        "# \n",
        "# \n",
        "\n",
        "iris.plot.hist()\n"
      ],
      "execution_count": 17,
      "outputs": [
        {
          "output_type": "execute_result",
          "data": {
            "text/plain": [
              "<matplotlib.axes._subplots.AxesSubplot at 0x7f0bd7c617d0>"
            ]
          },
          "metadata": {},
          "execution_count": 17
        },
        {
          "output_type": "display_data",
          "data": {
            "image/png": "[encoded data removed]",
            "text/plain": [
              "<Figure size 432x288 with 1 Axes>"
            ]
          },
          "metadata": {
            "needs_background": "light"
          }
        }
      ]
    },
    {
      "cell_type": "code",
      "metadata": {
        "colab": {
          "base_uri": "https://localhost:8080/",
          "height": 385
        },
        "id": "rp1aNnzlh42f",
        "outputId": "8efee398-7097-4ceb-b221-c5691cca68f8"
      },
      "source": [
        "# \n",
        "# find how many modes\n",
        "# \n",
        "\n",
        "iris.plot.density()\n"
      ],
      "execution_count": 18,
      "outputs": [
        {
          "output_type": "execute_result",
          "data": {
            "text/plain": [
              "<matplotlib.axes._subplots.AxesSubplot at 0x7f0bd79ebad0>"
            ]
          },
          "metadata": {},
          "execution_count": 18
        },
        {
          "output_type": "display_data",
          "data": {
            "image/png": "[encoded data removed]",
            "text/plain": [
              "<Figure size 432x288 with 1 Axes>"
            ]
          },
          "metadata": {
            "needs_background": "light"
          }
        }
      ]
    },
    {
      "cell_type": "code",
      "metadata": {
        "colab": {
          "base_uri": "https://localhost:8080/",
          "height": 732
        },
        "id": "A7N0h5Feh7uN",
        "outputId": "cb77a10e-c123-4213-fc88-a0aa9454acfc"
      },
      "source": [
        "# \n",
        "# \n",
        "# \n",
        "\n",
        "iris.hist()\n"
      ],
      "execution_count": 19,
      "outputs": [
        {
          "output_type": "execute_result",
          "data": {
            "text/plain": [
              "array([[<matplotlib.axes._subplots.AxesSubplot object at 0x7f0bbee95d90>,\n",
              "        <matplotlib.axes._subplots.AxesSubplot object at 0x7f0bbee43f90>,\n",
              "        <matplotlib.axes._subplots.AxesSubplot object at 0x7f0bbee045d0>,\n",
              "        <matplotlib.axes._subplots.AxesSubplot object at 0x7f0bbedb7bd0>,\n",
              "        <matplotlib.axes._subplots.AxesSubplot object at 0x7f0bbed7a210>],\n",
              "       [<matplotlib.axes._subplots.AxesSubplot object at 0x7f0bbed32810>,\n",
              "        <matplotlib.axes._subplots.AxesSubplot object at 0x7f0bbed67e90>,\n",
              "        <matplotlib.axes._subplots.AxesSubplot object at 0x7f0bbed2b410>,\n",
              "        <matplotlib.axes._subplots.AxesSubplot object at 0x7f0bbed2b450>,\n",
              "        <matplotlib.axes._subplots.AxesSubplot object at 0x7f0bbece1b50>],\n",
              "       [<matplotlib.axes._subplots.AxesSubplot object at 0x7f0bbec5b690>,\n",
              "        <matplotlib.axes._subplots.AxesSubplot object at 0x7f0bbec10c90>,\n",
              "        <matplotlib.axes._subplots.AxesSubplot object at 0x7f0bbebd22d0>,\n",
              "        <matplotlib.axes._subplots.AxesSubplot object at 0x7f0bbeb878d0>,\n",
              "        <matplotlib.axes._subplots.AxesSubplot object at 0x7f0bbeb40ed0>],\n",
              "       [<matplotlib.axes._subplots.AxesSubplot object at 0x7f0bbeb02510>,\n",
              "        <matplotlib.axes._subplots.AxesSubplot object at 0x7f0bbeab8b10>,\n",
              "        <matplotlib.axes._subplots.AxesSubplot object at 0x7f0bbea7c150>,\n",
              "        <matplotlib.axes._subplots.AxesSubplot object at 0x7f0bbeab1750>,\n",
              "        <matplotlib.axes._subplots.AxesSubplot object at 0x7f0bbea67dd0>],\n",
              "       [<matplotlib.axes._subplots.AxesSubplot object at 0x7f0bbea29410>,\n",
              "        <matplotlib.axes._subplots.AxesSubplot object at 0x7f0bbe9dfa10>,\n",
              "        <matplotlib.axes._subplots.AxesSubplot object at 0x7f0bbe995fd0>,\n",
              "        <matplotlib.axes._subplots.AxesSubplot object at 0x7f0bbe95b310>,\n",
              "        <matplotlib.axes._subplots.AxesSubplot object at 0x7f0bbe911810>]],\n",
              "      dtype=object)"
            ]
          },
          "metadata": {},
          "execution_count": 19
        },
        {
          "output_type": "display_data",
          "data": {
            "image/png": "[encoded data removed]",
            "text/plain": [
              "<Figure size 432x288 with 25 Axes>"
            ]
          },
          "metadata": {
            "needs_background": "light"
          }
        }
      ]
    },
    {
      "cell_type": "code",
      "metadata": {
        "colab": {
          "base_uri": "https://localhost:8080/",
          "height": 1000
        },
        "id": "bYcAHPK4h_2w",
        "outputId": "3b2e8dc9-575f-4d6e-a153-d37ceb8959d1"
      },
      "source": [
        "# \n",
        "# create correlation matrix\n",
        "# \n",
        "\n",
        "corr = iris.corr()\n",
        "print(corr)\n",
        "#vs\n",
        "iris.cov()\n"
      ],
      "execution_count": 20,
      "outputs": [
        {
          "output_type": "stream",
          "name": "stdout",
          "text": [
            "                                 DIVISION  ...  TIPO_CALIFICACIÓN\n",
            "DIVISION                         1.000000  ...          -0.007101\n",
            "NIVEL_EDUCATIVO                  0.015086  ...          -0.006068\n",
            "SEXO                             0.243440  ...          -0.000844\n",
            "EDAD                             0.019208  ...           0.031231\n",
            "ESTADO_CIVIL                     0.027076  ...           0.007868\n",
            "NUMERO_HIJOS                     0.020944  ...           0.013139\n",
            "TRABAJA                         -0.020328  ...          -0.005877\n",
            "SOSTEN_ECONOMICO                 0.024947  ...          -0.004547\n",
            "INTERNET                        -0.021453  ...          -0.005660\n",
            "INTERNET_LUGAR                   0.042372  ...          -0.001801\n",
            "EQUIPO_COMPUTO                  -0.002889  ...          -0.001627\n",
            "EQUIPO_COMPUTO_DESC              0.003085  ...           0.004068\n",
            "EXPERIENCIA_MODALIDAD            0.014438  ...           0.001290\n",
            "MODALIDAD_ESTUDIOS_BACHILLERATO -0.004352  ...          -0.002717\n",
            "PROMEDIO_BACHILLERATO            0.013931  ...           0.004595\n",
            "HORAS_ESTUDIO_SEMANA             0.019458  ...           0.004311\n",
            "DISCAPACIDAD                     0.000749  ...           0.009970\n",
            "PERIODO_ESCOLAR                  0.031486  ...          -0.133620\n",
            "SEMESTRE                         0.072430  ...           0.046247\n",
            "CALIFICACION                     0.102302  ...           0.044440\n",
            "TIPO_CALIFICACIÓN               -0.007101  ...           1.000000\n",
            "\n",
            "[21 rows x 21 columns]\n"
          ]
        },
        {
          "output_type": "execute_result",
          "data": {
            "text/html": [
              "<div>\n",
              "<style scoped>\n",
              "    .dataframe tbody tr th:only-of-type {\n",
              "        vertical-align: middle;\n",
              "    }\n",
              "\n",
              "    .dataframe tbody tr th {\n",
              "        vertical-align: top;\n",
              "    }\n",
              "\n",
              "    .dataframe thead th {\n",
              "        text-align: right;\n",
              "    }\n",
              "</style>\n",
              "<table border=\"1\" class=\"dataframe\">\n",
              "  <thead>\n",
              "    <tr style=\"text-align: right;\">\n",
              "      <th></th>\n",
              "      <th>DIVISION</th>\n",
              "      <th>NIVEL_EDUCATIVO</th>\n",
              "      <th>SEXO</th>\n",
              "      <th>EDAD</th>\n",
              "      <th>ESTADO_CIVIL</th>\n",
              "      <th>NUMERO_HIJOS</th>\n",
              "      <th>TRABAJA</th>\n",
              "      <th>SOSTEN_ECONOMICO</th>\n",
              "      <th>INTERNET</th>\n",
              "      <th>INTERNET_LUGAR</th>\n",
              "      <th>EQUIPO_COMPUTO</th>\n",
              "      <th>EQUIPO_COMPUTO_DESC</th>\n",
              "      <th>EXPERIENCIA_MODALIDAD</th>\n",
              "      <th>MODALIDAD_ESTUDIOS_BACHILLERATO</th>\n",
              "      <th>PROMEDIO_BACHILLERATO</th>\n",
              "      <th>HORAS_ESTUDIO_SEMANA</th>\n",
              "      <th>DISCAPACIDAD</th>\n",
              "      <th>PERIODO_ESCOLAR</th>\n",
              "      <th>SEMESTRE</th>\n",
              "      <th>CALIFICACION</th>\n",
              "      <th>TIPO_CALIFICACIÓN</th>\n",
              "    </tr>\n",
              "  </thead>\n",
              "  <tbody>\n",
              "    <tr>\n",
              "      <th>DIVISION</th>\n",
              "      <td>0.457391</td>\n",
              "      <td>0.001783</td>\n",
              "      <td>0.082106</td>\n",
              "      <td>0.011888</td>\n",
              "      <td>0.032406</td>\n",
              "      <td>0.006833</td>\n",
              "      <td>-0.005858</td>\n",
              "      <td>0.013038</td>\n",
              "      <td>-0.000694</td>\n",
              "      <td>0.024567</td>\n",
              "      <td>-0.000283</td>\n",
              "      <td>0.003965</td>\n",
              "      <td>0.004673</td>\n",
              "      <td>-0.001673</td>\n",
              "      <td>0.007386</td>\n",
              "      <td>0.013793</td>\n",
              "      <td>0.000075</td>\n",
              "      <td>0.029715</td>\n",
              "      <td>0.065786</td>\n",
              "      <td>0.033392</td>\n",
              "      <td>-0.000559</td>\n",
              "    </tr>\n",
              "    <tr>\n",
              "      <th>NIVEL_EDUCATIVO</th>\n",
              "      <td>0.001783</td>\n",
              "      <td>0.030540</td>\n",
              "      <td>-0.004859</td>\n",
              "      <td>-0.002936</td>\n",
              "      <td>0.001903</td>\n",
              "      <td>0.000782</td>\n",
              "      <td>-0.000500</td>\n",
              "      <td>0.001255</td>\n",
              "      <td>0.000072</td>\n",
              "      <td>-0.002969</td>\n",
              "      <td>0.000253</td>\n",
              "      <td>-0.008347</td>\n",
              "      <td>-0.000070</td>\n",
              "      <td>-0.003145</td>\n",
              "      <td>0.007324</td>\n",
              "      <td>0.000082</td>\n",
              "      <td>-0.000521</td>\n",
              "      <td>-0.003219</td>\n",
              "      <td>-0.007467</td>\n",
              "      <td>-0.001270</td>\n",
              "      <td>-0.000123</td>\n",
              "    </tr>\n",
              "    <tr>\n",
              "      <th>SEXO</th>\n",
              "      <td>0.082106</td>\n",
              "      <td>-0.004859</td>\n",
              "      <td>0.248699</td>\n",
              "      <td>-0.024181</td>\n",
              "      <td>0.018584</td>\n",
              "      <td>0.004665</td>\n",
              "      <td>-0.000035</td>\n",
              "      <td>-0.010837</td>\n",
              "      <td>-0.000129</td>\n",
              "      <td>-0.003281</td>\n",
              "      <td>0.000341</td>\n",
              "      <td>0.000935</td>\n",
              "      <td>-0.001763</td>\n",
              "      <td>-0.002392</td>\n",
              "      <td>0.002203</td>\n",
              "      <td>0.003324</td>\n",
              "      <td>-0.003952</td>\n",
              "      <td>0.013618</td>\n",
              "      <td>0.019071</td>\n",
              "      <td>0.011267</td>\n",
              "      <td>-0.000049</td>\n",
              "    </tr>\n",
              "    <tr>\n",
              "      <th>EDAD</th>\n",
              "      <td>0.011888</td>\n",
              "      <td>-0.002936</td>\n",
              "      <td>-0.024181</td>\n",
              "      <td>0.837491</td>\n",
              "      <td>0.006403</td>\n",
              "      <td>-0.002114</td>\n",
              "      <td>-0.002123</td>\n",
              "      <td>-0.012397</td>\n",
              "      <td>0.000459</td>\n",
              "      <td>-0.012645</td>\n",
              "      <td>0.000307</td>\n",
              "      <td>-0.007070</td>\n",
              "      <td>-0.002583</td>\n",
              "      <td>-0.008741</td>\n",
              "      <td>0.016932</td>\n",
              "      <td>-0.004766</td>\n",
              "      <td>0.002359</td>\n",
              "      <td>0.054082</td>\n",
              "      <td>0.091914</td>\n",
              "      <td>0.047876</td>\n",
              "      <td>0.003327</td>\n",
              "    </tr>\n",
              "    <tr>\n",
              "      <th>ESTADO_CIVIL</th>\n",
              "      <td>0.032406</td>\n",
              "      <td>0.001903</td>\n",
              "      <td>0.018584</td>\n",
              "      <td>0.006403</td>\n",
              "      <td>3.131874</td>\n",
              "      <td>0.377545</td>\n",
              "      <td>0.010707</td>\n",
              "      <td>-0.047210</td>\n",
              "      <td>-0.004389</td>\n",
              "      <td>0.018135</td>\n",
              "      <td>-0.009400</td>\n",
              "      <td>-0.048924</td>\n",
              "      <td>-0.029264</td>\n",
              "      <td>0.033516</td>\n",
              "      <td>-0.003003</td>\n",
              "      <td>0.116573</td>\n",
              "      <td>-0.000022</td>\n",
              "      <td>0.008289</td>\n",
              "      <td>0.017010</td>\n",
              "      <td>0.011122</td>\n",
              "      <td>0.001621</td>\n",
              "    </tr>\n",
              "    <tr>\n",
              "      <th>NUMERO_HIJOS</th>\n",
              "      <td>0.006833</td>\n",
              "      <td>0.000782</td>\n",
              "      <td>0.004665</td>\n",
              "      <td>-0.002114</td>\n",
              "      <td>0.377545</td>\n",
              "      <td>0.232690</td>\n",
              "      <td>-0.002524</td>\n",
              "      <td>0.007743</td>\n",
              "      <td>-0.001966</td>\n",
              "      <td>0.002399</td>\n",
              "      <td>0.001264</td>\n",
              "      <td>0.033575</td>\n",
              "      <td>0.002162</td>\n",
              "      <td>-0.007158</td>\n",
              "      <td>0.000133</td>\n",
              "      <td>0.001770</td>\n",
              "      <td>-0.001296</td>\n",
              "      <td>0.003797</td>\n",
              "      <td>0.006397</td>\n",
              "      <td>0.001173</td>\n",
              "      <td>0.000738</td>\n",
              "    </tr>\n",
              "    <tr>\n",
              "      <th>TRABAJA</th>\n",
              "      <td>-0.005858</td>\n",
              "      <td>-0.000500</td>\n",
              "      <td>-0.000035</td>\n",
              "      <td>-0.002123</td>\n",
              "      <td>0.010707</td>\n",
              "      <td>-0.002524</td>\n",
              "      <td>0.181568</td>\n",
              "      <td>0.159432</td>\n",
              "      <td>-0.000413</td>\n",
              "      <td>0.027039</td>\n",
              "      <td>0.002392</td>\n",
              "      <td>0.001859</td>\n",
              "      <td>0.020814</td>\n",
              "      <td>-0.007118</td>\n",
              "      <td>-0.011372</td>\n",
              "      <td>-0.044620</td>\n",
              "      <td>0.000873</td>\n",
              "      <td>0.004022</td>\n",
              "      <td>0.003814</td>\n",
              "      <td>0.000717</td>\n",
              "      <td>-0.000292</td>\n",
              "    </tr>\n",
              "    <tr>\n",
              "      <th>SOSTEN_ECONOMICO</th>\n",
              "      <td>0.013038</td>\n",
              "      <td>0.001255</td>\n",
              "      <td>-0.010837</td>\n",
              "      <td>-0.012397</td>\n",
              "      <td>-0.047210</td>\n",
              "      <td>0.007743</td>\n",
              "      <td>0.159432</td>\n",
              "      <td>0.597186</td>\n",
              "      <td>-0.000619</td>\n",
              "      <td>0.029139</td>\n",
              "      <td>0.001467</td>\n",
              "      <td>0.016873</td>\n",
              "      <td>0.021857</td>\n",
              "      <td>-0.007929</td>\n",
              "      <td>-0.019673</td>\n",
              "      <td>-0.082540</td>\n",
              "      <td>0.000856</td>\n",
              "      <td>-0.000208</td>\n",
              "      <td>-0.000027</td>\n",
              "      <td>-0.000094</td>\n",
              "      <td>-0.000409</td>\n",
              "    </tr>\n",
              "    <tr>\n",
              "      <th>INTERNET</th>\n",
              "      <td>-0.000694</td>\n",
              "      <td>0.000072</td>\n",
              "      <td>-0.000129</td>\n",
              "      <td>0.000459</td>\n",
              "      <td>-0.004389</td>\n",
              "      <td>-0.001966</td>\n",
              "      <td>-0.000413</td>\n",
              "      <td>-0.000619</td>\n",
              "      <td>0.002289</td>\n",
              "      <td>-0.000382</td>\n",
              "      <td>0.000418</td>\n",
              "      <td>-0.000509</td>\n",
              "      <td>-0.000722</td>\n",
              "      <td>-0.000035</td>\n",
              "      <td>-0.000848</td>\n",
              "      <td>0.000762</td>\n",
              "      <td>-0.000194</td>\n",
              "      <td>0.000178</td>\n",
              "      <td>-0.000238</td>\n",
              "      <td>-0.000068</td>\n",
              "      <td>-0.000032</td>\n",
              "    </tr>\n",
              "    <tr>\n",
              "      <th>INTERNET_LUGAR</th>\n",
              "      <td>0.024567</td>\n",
              "      <td>-0.002969</td>\n",
              "      <td>-0.003281</td>\n",
              "      <td>-0.012645</td>\n",
              "      <td>0.018135</td>\n",
              "      <td>0.002399</td>\n",
              "      <td>0.027039</td>\n",
              "      <td>0.029139</td>\n",
              "      <td>-0.000382</td>\n",
              "      <td>0.734945</td>\n",
              "      <td>-0.022534</td>\n",
              "      <td>0.102843</td>\n",
              "      <td>0.004712</td>\n",
              "      <td>-0.015659</td>\n",
              "      <td>0.010718</td>\n",
              "      <td>-0.037918</td>\n",
              "      <td>0.001213</td>\n",
              "      <td>-0.006344</td>\n",
              "      <td>0.003207</td>\n",
              "      <td>-0.001498</td>\n",
              "      <td>-0.000180</td>\n",
              "    </tr>\n",
              "    <tr>\n",
              "      <th>EQUIPO_COMPUTO</th>\n",
              "      <td>-0.000283</td>\n",
              "      <td>0.000253</td>\n",
              "      <td>0.000341</td>\n",
              "      <td>0.000307</td>\n",
              "      <td>-0.009400</td>\n",
              "      <td>0.001264</td>\n",
              "      <td>0.002392</td>\n",
              "      <td>0.001467</td>\n",
              "      <td>0.000418</td>\n",
              "      <td>-0.022534</td>\n",
              "      <td>0.020986</td>\n",
              "      <td>-0.013792</td>\n",
              "      <td>0.002431</td>\n",
              "      <td>0.001466</td>\n",
              "      <td>-0.000774</td>\n",
              "      <td>0.007900</td>\n",
              "      <td>0.000030</td>\n",
              "      <td>0.000030</td>\n",
              "      <td>-0.003266</td>\n",
              "      <td>-0.000728</td>\n",
              "      <td>-0.000027</td>\n",
              "    </tr>\n",
              "    <tr>\n",
              "      <th>EQUIPO_COMPUTO_DESC</th>\n",
              "      <td>0.003965</td>\n",
              "      <td>-0.008347</td>\n",
              "      <td>0.000935</td>\n",
              "      <td>-0.007070</td>\n",
              "      <td>-0.048924</td>\n",
              "      <td>0.033575</td>\n",
              "      <td>0.001859</td>\n",
              "      <td>0.016873</td>\n",
              "      <td>-0.000509</td>\n",
              "      <td>0.102843</td>\n",
              "      <td>-0.013792</td>\n",
              "      <td>3.611578</td>\n",
              "      <td>0.019346</td>\n",
              "      <td>-0.068842</td>\n",
              "      <td>0.008062</td>\n",
              "      <td>-0.051278</td>\n",
              "      <td>-0.008561</td>\n",
              "      <td>0.025531</td>\n",
              "      <td>0.009868</td>\n",
              "      <td>0.008959</td>\n",
              "      <td>0.000900</td>\n",
              "    </tr>\n",
              "    <tr>\n",
              "      <th>EXPERIENCIA_MODALIDAD</th>\n",
              "      <td>0.004673</td>\n",
              "      <td>-0.000070</td>\n",
              "      <td>-0.001763</td>\n",
              "      <td>-0.002583</td>\n",
              "      <td>-0.029264</td>\n",
              "      <td>0.002162</td>\n",
              "      <td>0.020814</td>\n",
              "      <td>0.021857</td>\n",
              "      <td>-0.000722</td>\n",
              "      <td>0.004712</td>\n",
              "      <td>0.002431</td>\n",
              "      <td>0.019346</td>\n",
              "      <td>0.229071</td>\n",
              "      <td>-0.097878</td>\n",
              "      <td>0.034832</td>\n",
              "      <td>0.012611</td>\n",
              "      <td>-0.000680</td>\n",
              "      <td>0.011520</td>\n",
              "      <td>0.006866</td>\n",
              "      <td>0.003471</td>\n",
              "      <td>0.000072</td>\n",
              "    </tr>\n",
              "    <tr>\n",
              "      <th>MODALIDAD_ESTUDIOS_BACHILLERATO</th>\n",
              "      <td>-0.001673</td>\n",
              "      <td>-0.003145</td>\n",
              "      <td>-0.002392</td>\n",
              "      <td>-0.008741</td>\n",
              "      <td>0.033516</td>\n",
              "      <td>-0.007158</td>\n",
              "      <td>-0.007118</td>\n",
              "      <td>-0.007929</td>\n",
              "      <td>-0.000035</td>\n",
              "      <td>-0.015659</td>\n",
              "      <td>0.001466</td>\n",
              "      <td>-0.068842</td>\n",
              "      <td>-0.097878</td>\n",
              "      <td>0.323086</td>\n",
              "      <td>-0.033426</td>\n",
              "      <td>0.001363</td>\n",
              "      <td>-0.000946</td>\n",
              "      <td>-0.011991</td>\n",
              "      <td>-0.009045</td>\n",
              "      <td>-0.003898</td>\n",
              "      <td>-0.000180</td>\n",
              "    </tr>\n",
              "    <tr>\n",
              "      <th>PROMEDIO_BACHILLERATO</th>\n",
              "      <td>0.007386</td>\n",
              "      <td>0.007324</td>\n",
              "      <td>0.002203</td>\n",
              "      <td>0.016932</td>\n",
              "      <td>-0.003003</td>\n",
              "      <td>0.000133</td>\n",
              "      <td>-0.011372</td>\n",
              "      <td>-0.019673</td>\n",
              "      <td>-0.000848</td>\n",
              "      <td>0.010718</td>\n",
              "      <td>-0.000774</td>\n",
              "      <td>0.008062</td>\n",
              "      <td>0.034832</td>\n",
              "      <td>-0.033426</td>\n",
              "      <td>0.614589</td>\n",
              "      <td>0.003621</td>\n",
              "      <td>0.001654</td>\n",
              "      <td>0.004900</td>\n",
              "      <td>0.013322</td>\n",
              "      <td>0.007796</td>\n",
              "      <td>0.000419</td>\n",
              "    </tr>\n",
              "    <tr>\n",
              "      <th>HORAS_ESTUDIO_SEMANA</th>\n",
              "      <td>0.013793</td>\n",
              "      <td>0.000082</td>\n",
              "      <td>0.003324</td>\n",
              "      <td>-0.004766</td>\n",
              "      <td>0.116573</td>\n",
              "      <td>0.001770</td>\n",
              "      <td>-0.044620</td>\n",
              "      <td>-0.082540</td>\n",
              "      <td>0.000762</td>\n",
              "      <td>-0.037918</td>\n",
              "      <td>0.007900</td>\n",
              "      <td>-0.051278</td>\n",
              "      <td>0.012611</td>\n",
              "      <td>0.001363</td>\n",
              "      <td>0.003621</td>\n",
              "      <td>1.098606</td>\n",
              "      <td>-0.003864</td>\n",
              "      <td>-0.012558</td>\n",
              "      <td>-0.026428</td>\n",
              "      <td>-0.007670</td>\n",
              "      <td>0.000526</td>\n",
              "    </tr>\n",
              "    <tr>\n",
              "      <th>DISCAPACIDAD</th>\n",
              "      <td>0.000075</td>\n",
              "      <td>-0.000521</td>\n",
              "      <td>-0.003952</td>\n",
              "      <td>0.002359</td>\n",
              "      <td>-0.000022</td>\n",
              "      <td>-0.001296</td>\n",
              "      <td>0.000873</td>\n",
              "      <td>0.000856</td>\n",
              "      <td>-0.000194</td>\n",
              "      <td>0.001213</td>\n",
              "      <td>0.000030</td>\n",
              "      <td>-0.008561</td>\n",
              "      <td>-0.000680</td>\n",
              "      <td>-0.000946</td>\n",
              "      <td>0.001654</td>\n",
              "      <td>-0.003864</td>\n",
              "      <td>0.021668</td>\n",
              "      <td>0.002211</td>\n",
              "      <td>0.001940</td>\n",
              "      <td>0.001681</td>\n",
              "      <td>0.000171</td>\n",
              "    </tr>\n",
              "    <tr>\n",
              "      <th>PERIODO_ESCOLAR</th>\n",
              "      <td>0.029715</td>\n",
              "      <td>-0.003219</td>\n",
              "      <td>0.013618</td>\n",
              "      <td>0.054082</td>\n",
              "      <td>0.008289</td>\n",
              "      <td>0.003797</td>\n",
              "      <td>0.004022</td>\n",
              "      <td>-0.000208</td>\n",
              "      <td>0.000178</td>\n",
              "      <td>-0.006344</td>\n",
              "      <td>0.000030</td>\n",
              "      <td>0.025531</td>\n",
              "      <td>0.011520</td>\n",
              "      <td>-0.011991</td>\n",
              "      <td>0.004900</td>\n",
              "      <td>-0.012558</td>\n",
              "      <td>0.002211</td>\n",
              "      <td>1.947336</td>\n",
              "      <td>1.433109</td>\n",
              "      <td>0.076634</td>\n",
              "      <td>-0.021707</td>\n",
              "    </tr>\n",
              "    <tr>\n",
              "      <th>SEMESTRE</th>\n",
              "      <td>0.065786</td>\n",
              "      <td>-0.007467</td>\n",
              "      <td>0.019071</td>\n",
              "      <td>0.091914</td>\n",
              "      <td>0.017010</td>\n",
              "      <td>0.006397</td>\n",
              "      <td>0.003814</td>\n",
              "      <td>-0.000027</td>\n",
              "      <td>-0.000238</td>\n",
              "      <td>0.003207</td>\n",
              "      <td>-0.003266</td>\n",
              "      <td>0.009868</td>\n",
              "      <td>0.006866</td>\n",
              "      <td>-0.009045</td>\n",
              "      <td>0.013322</td>\n",
              "      <td>-0.026428</td>\n",
              "      <td>0.001940</td>\n",
              "      <td>1.433109</td>\n",
              "      <td>1.803583</td>\n",
              "      <td>0.165833</td>\n",
              "      <td>0.007230</td>\n",
              "    </tr>\n",
              "    <tr>\n",
              "      <th>CALIFICACION</th>\n",
              "      <td>0.033392</td>\n",
              "      <td>-0.001270</td>\n",
              "      <td>0.011267</td>\n",
              "      <td>0.047876</td>\n",
              "      <td>0.011122</td>\n",
              "      <td>0.001173</td>\n",
              "      <td>0.000717</td>\n",
              "      <td>-0.000094</td>\n",
              "      <td>-0.000068</td>\n",
              "      <td>-0.001498</td>\n",
              "      <td>-0.000728</td>\n",
              "      <td>0.008959</td>\n",
              "      <td>0.003471</td>\n",
              "      <td>-0.003898</td>\n",
              "      <td>0.007796</td>\n",
              "      <td>-0.007670</td>\n",
              "      <td>0.001681</td>\n",
              "      <td>0.076634</td>\n",
              "      <td>0.165833</td>\n",
              "      <td>0.232934</td>\n",
              "      <td>0.002497</td>\n",
              "    </tr>\n",
              "    <tr>\n",
              "      <th>TIPO_CALIFICACIÓN</th>\n",
              "      <td>-0.000559</td>\n",
              "      <td>-0.000123</td>\n",
              "      <td>-0.000049</td>\n",
              "      <td>0.003327</td>\n",
              "      <td>0.001621</td>\n",
              "      <td>0.000738</td>\n",
              "      <td>-0.000292</td>\n",
              "      <td>-0.000409</td>\n",
              "      <td>-0.000032</td>\n",
              "      <td>-0.000180</td>\n",
              "      <td>-0.000027</td>\n",
              "      <td>0.000900</td>\n",
              "      <td>0.000072</td>\n",
              "      <td>-0.000180</td>\n",
              "      <td>0.000419</td>\n",
              "      <td>0.000526</td>\n",
              "      <td>0.000171</td>\n",
              "      <td>-0.021707</td>\n",
              "      <td>0.007230</td>\n",
              "      <td>0.002497</td>\n",
              "      <td>0.013552</td>\n",
              "    </tr>\n",
              "  </tbody>\n",
              "</table>\n",
              "</div>"
            ],
            "text/plain": [
              "                                 DIVISION  ...  TIPO_CALIFICACIÓN\n",
              "DIVISION                         0.457391  ...          -0.000559\n",
              "NIVEL_EDUCATIVO                  0.001783  ...          -0.000123\n",
              "SEXO                             0.082106  ...          -0.000049\n",
              "EDAD                             0.011888  ...           0.003327\n",
              "ESTADO_CIVIL                     0.032406  ...           0.001621\n",
              "NUMERO_HIJOS                     0.006833  ...           0.000738\n",
              "TRABAJA                         -0.005858  ...          -0.000292\n",
              "SOSTEN_ECONOMICO                 0.013038  ...          -0.000409\n",
              "INTERNET                        -0.000694  ...          -0.000032\n",
              "INTERNET_LUGAR                   0.024567  ...          -0.000180\n",
              "EQUIPO_COMPUTO                  -0.000283  ...          -0.000027\n",
              "EQUIPO_COMPUTO_DESC              0.003965  ...           0.000900\n",
              "EXPERIENCIA_MODALIDAD            0.004673  ...           0.000072\n",
              "MODALIDAD_ESTUDIOS_BACHILLERATO -0.001673  ...          -0.000180\n",
              "PROMEDIO_BACHILLERATO            0.007386  ...           0.000419\n",
              "HORAS_ESTUDIO_SEMANA             0.013793  ...           0.000526\n",
              "DISCAPACIDAD                     0.000075  ...           0.000171\n",
              "PERIODO_ESCOLAR                  0.029715  ...          -0.021707\n",
              "SEMESTRE                         0.065786  ...           0.007230\n",
              "CALIFICACION                     0.033392  ...           0.002497\n",
              "TIPO_CALIFICACIÓN               -0.000559  ...           0.013552\n",
              "\n",
              "[21 rows x 21 columns]"
            ]
          },
          "metadata": {},
          "execution_count": 20
        }
      ]
    },
    {
      "cell_type": "code",
      "metadata": {
        "colab": {
          "base_uri": "https://localhost:8080/",
          "height": 369
        },
        "id": "uwZjh8tZiIBZ",
        "outputId": "df25ce2d-934b-4eb5-8579-435d72f8df80"
      },
      "source": [
        "# \n",
        "# the higher (red), the more correlated (cf. diagonal)\n",
        "#\n",
        "\n",
        "import statsmodels.api as sm\n",
        "sm.graphics.plot_corr(corr, xnames=list(corr.columns))\n",
        "print()\n"
      ],
      "execution_count": 21,
      "outputs": [
        {
          "output_type": "stream",
          "name": "stderr",
          "text": [
            "/usr/local/lib/python3.7/dist-packages/statsmodels/tools/_testing.py:19: FutureWarning: pandas.util.testing is deprecated. Use the functions in the public API at pandas.testing instead.\n",
            "  import pandas.util.testing as tm\n"
          ]
        },
        {
          "output_type": "stream",
          "name": "stdout",
          "text": [
            "\n"
          ]
        },
        {
          "output_type": "display_data",
          "data": {
            "image/png": "[encoded data removed]",
            "text/plain": [
              "<Figure size 432x288 with 2 Axes>"
            ]
          },
          "metadata": {
            "needs_background": "light"
          }
        }
      ]
    },
    {
      "cell_type": "code",
      "metadata": {
        "colab": {
          "base_uri": "https://localhost:8080/"
        },
        "id": "oy92GX4YJxuJ",
        "outputId": "27adc5eb-4251-43cf-a64d-c43e63ece9f5"
      },
      "source": [
        "# \n",
        "# ranking correlations\n",
        "# \n",
        "\n",
        "corr[\"NIVEL_EDUCATIVO\"].sort_values(ascending=False) \n"
      ],
      "execution_count": 22,
      "outputs": [
        {
          "output_type": "execute_result",
          "data": {
            "text/plain": [
              "NIVEL_EDUCATIVO                    1.000000\n",
              "PROMEDIO_BACHILLERATO              0.053459\n",
              "DIVISION                           0.015086\n",
              "EQUIPO_COMPUTO                     0.009999\n",
              "SOSTEN_ECONOMICO                   0.009294\n",
              "NUMERO_HIJOS                       0.009279\n",
              "INTERNET                           0.008652\n",
              "ESTADO_CIVIL                       0.006152\n",
              "HORAS_ESTUDIO_SEMANA               0.000450\n",
              "EXPERIENCIA_MODALIDAD             -0.000832\n",
              "TIPO_CALIFICACIÓN                 -0.006068\n",
              "TRABAJA                           -0.006708\n",
              "PERIODO_ESCOLAR                   -0.013198\n",
              "CALIFICACION                      -0.015053\n",
              "EDAD                              -0.018357\n",
              "INTERNET_LUGAR                    -0.019819\n",
              "DISCAPACIDAD                      -0.020237\n",
              "EQUIPO_COMPUTO_DESC               -0.025133\n",
              "MODALIDAD_ESTUDIOS_BACHILLERATO   -0.031666\n",
              "SEMESTRE                          -0.031816\n",
              "SEXO                              -0.055753\n",
              "Name: NIVEL_EDUCATIVO, dtype: float64"
            ]
          },
          "metadata": {},
          "execution_count": 22
        }
      ]
    },
    {
      "cell_type": "code",
      "metadata": {
        "colab": {
          "base_uri": "https://localhost:8080/"
        },
        "id": "vqpLb5ospE1X",
        "outputId": "3ad0551e-756a-4eed-a68c-ae25384615e3"
      },
      "source": [
        "corr[\"SEXO\"].sort_values(ascending=False) "
      ],
      "execution_count": 23,
      "outputs": [
        {
          "output_type": "execute_result",
          "data": {
            "text/plain": [
              "SEXO                               1.000000\n",
              "DIVISION                           0.243440\n",
              "CALIFICACION                       0.046814\n",
              "SEMESTRE                           0.028475\n",
              "ESTADO_CIVIL                       0.021057\n",
              "PERIODO_ESCOLAR                    0.019568\n",
              "NUMERO_HIJOS                       0.019393\n",
              "HORAS_ESTUDIO_SEMANA               0.006359\n",
              "PROMEDIO_BACHILLERATO              0.005634\n",
              "EQUIPO_COMPUTO                     0.004718\n",
              "EQUIPO_COMPUTO_DESC                0.000987\n",
              "TRABAJA                           -0.000166\n",
              "TIPO_CALIFICACIÓN                 -0.000844\n",
              "INTERNET                          -0.005393\n",
              "EXPERIENCIA_MODALIDAD             -0.007387\n",
              "INTERNET_LUGAR                    -0.007674\n",
              "MODALIDAD_ESTUDIOS_BACHILLERATO   -0.008439\n",
              "SOSTEN_ECONOMICO                  -0.028121\n",
              "EDAD                              -0.052984\n",
              "DISCAPACIDAD                      -0.053838\n",
              "NIVEL_EDUCATIVO                   -0.055753\n",
              "Name: SEXO, dtype: float64"
            ]
          },
          "metadata": {},
          "execution_count": 23
        }
      ]
    },
    {
      "cell_type": "code",
      "metadata": {
        "colab": {
          "base_uri": "https://localhost:8080/"
        },
        "id": "kU31HhIbv0MA",
        "outputId": "5a2e3bde-ba44-470a-f668-86c2b3bc0f19"
      },
      "source": [
        "corr[\"SEMESTRE\"].sort_values(ascending=False) "
      ],
      "execution_count": 24,
      "outputs": [
        {
          "output_type": "execute_result",
          "data": {
            "text/plain": [
              "SEMESTRE                           1.000000\n",
              "PERIODO_ESCOLAR                    0.764699\n",
              "CALIFICACION                       0.255851\n",
              "EDAD                               0.074787\n",
              "DIVISION                           0.072430\n",
              "TIPO_CALIFICACIÓN                  0.046247\n",
              "SEXO                               0.028475\n",
              "PROMEDIO_BACHILLERATO              0.012654\n",
              "EXPERIENCIA_MODALIDAD              0.010683\n",
              "NUMERO_HIJOS                       0.009874\n",
              "DISCAPACIDAD                       0.009812\n",
              "ESTADO_CIVIL                       0.007157\n",
              "TRABAJA                            0.006665\n",
              "EQUIPO_COMPUTO_DESC                0.003866\n",
              "INTERNET_LUGAR                     0.002786\n",
              "SOSTEN_ECONOMICO                  -0.000026\n",
              "INTERNET                          -0.003703\n",
              "MODALIDAD_ESTUDIOS_BACHILLERATO   -0.011849\n",
              "EQUIPO_COMPUTO                    -0.016787\n",
              "HORAS_ESTUDIO_SEMANA              -0.018775\n",
              "NIVEL_EDUCATIVO                   -0.031816\n",
              "Name: SEMESTRE, dtype: float64"
            ]
          },
          "metadata": {},
          "execution_count": 24
        }
      ]
    },
    {
      "cell_type": "code",
      "metadata": {
        "colab": {
          "base_uri": "https://localhost:8080/"
        },
        "id": "GhakEpuSzn99",
        "outputId": "abdd67df-490a-4813-80af-90344c80e996"
      },
      "source": [
        "corr[\"CALIFICACION\"].sort_values(ascending=False) "
      ],
      "execution_count": 25,
      "outputs": [
        {
          "output_type": "execute_result",
          "data": {
            "text/plain": [
              "CALIFICACION                       1.000000\n",
              "SEMESTRE                           0.255851\n",
              "PERIODO_ESCOLAR                    0.113785\n",
              "EDAD                               0.108394\n",
              "DIVISION                           0.102302\n",
              "SEXO                               0.046814\n",
              "TIPO_CALIFICACIÓN                  0.044440\n",
              "DISCAPACIDAD                       0.023666\n",
              "PROMEDIO_BACHILLERATO              0.020606\n",
              "EXPERIENCIA_MODALIDAD              0.015028\n",
              "ESTADO_CIVIL                       0.013022\n",
              "EQUIPO_COMPUTO_DESC                0.009768\n",
              "NUMERO_HIJOS                       0.005036\n",
              "TRABAJA                            0.003485\n",
              "SOSTEN_ECONOMICO                  -0.000251\n",
              "INTERNET                          -0.002935\n",
              "INTERNET_LUGAR                    -0.003620\n",
              "EQUIPO_COMPUTO                    -0.010409\n",
              "MODALIDAD_ESTUDIOS_BACHILLERATO   -0.014211\n",
              "NIVEL_EDUCATIVO                   -0.015053\n",
              "HORAS_ESTUDIO_SEMANA              -0.015163\n",
              "Name: CALIFICACION, dtype: float64"
            ]
          },
          "metadata": {},
          "execution_count": 25
        }
      ]
    },
    {
      "cell_type": "code",
      "metadata": {
        "colab": {
          "base_uri": "https://localhost:8080/"
        },
        "id": "bM7hYQV01tfl",
        "outputId": "8a0448aa-552f-4471-c966-b798e2d893e6"
      },
      "source": [
        "corr[\"EDAD\"].sort_values(ascending=False) "
      ],
      "execution_count": 26,
      "outputs": [
        {
          "output_type": "execute_result",
          "data": {
            "text/plain": [
              "EDAD                               1.000000\n",
              "CALIFICACION                       0.108394\n",
              "SEMESTRE                           0.074787\n",
              "PERIODO_ESCOLAR                    0.042349\n",
              "TIPO_CALIFICACIÓN                  0.031231\n",
              "PROMEDIO_BACHILLERATO              0.023600\n",
              "DIVISION                           0.019208\n",
              "DISCAPACIDAD                       0.017514\n",
              "INTERNET                           0.010484\n",
              "ESTADO_CIVIL                       0.003954\n",
              "EQUIPO_COMPUTO                     0.002317\n",
              "EQUIPO_COMPUTO_DESC               -0.004065\n",
              "NUMERO_HIJOS                      -0.004790\n",
              "HORAS_ESTUDIO_SEMANA              -0.004968\n",
              "TRABAJA                           -0.005446\n",
              "EXPERIENCIA_MODALIDAD             -0.005898\n",
              "INTERNET_LUGAR                    -0.016118\n",
              "MODALIDAD_ESTUDIOS_BACHILLERATO   -0.016804\n",
              "SOSTEN_ECONOMICO                  -0.017530\n",
              "NIVEL_EDUCATIVO                   -0.018357\n",
              "SEXO                              -0.052984\n",
              "Name: EDAD, dtype: float64"
            ]
          },
          "metadata": {},
          "execution_count": 26
        }
      ]
    },
    {
      "cell_type": "markdown",
      "metadata": {
        "id": "6_Z0qO1MyBj5"
      },
      "source": [
        "Entrenamiento"
      ]
    },
    {
      "cell_type": "code",
      "metadata": {
        "colab": {
          "base_uri": "https://localhost:8080/",
          "height": 348
        },
        "id": "22gWVOv9yAKx",
        "outputId": "2ead7c85-9bb7-4ea2-be1a-0ebbe6882d56"
      },
      "source": [
        "iris.head()"
      ],
      "execution_count": 27,
      "outputs": [
        {
          "output_type": "execute_result",
          "data": {
            "text/html": [
              "<div>\n",
              "<style scoped>\n",
              "    .dataframe tbody tr th:only-of-type {\n",
              "        vertical-align: middle;\n",
              "    }\n",
              "\n",
              "    .dataframe tbody tr th {\n",
              "        vertical-align: top;\n",
              "    }\n",
              "\n",
              "    .dataframe thead th {\n",
              "        text-align: right;\n",
              "    }\n",
              "</style>\n",
              "<table border=\"1\" class=\"dataframe\">\n",
              "  <thead>\n",
              "    <tr style=\"text-align: right;\">\n",
              "      <th></th>\n",
              "      <th>PROGRAMA_EDUCATIVO</th>\n",
              "      <th>DIVISION</th>\n",
              "      <th>NIVEL_EDUCATIVO</th>\n",
              "      <th>SEXO</th>\n",
              "      <th>EDAD</th>\n",
              "      <th>ESTADO_CIVIL</th>\n",
              "      <th>NUMERO_HIJOS</th>\n",
              "      <th>TRABAJA</th>\n",
              "      <th>SOSTEN_ECONOMICO</th>\n",
              "      <th>INTERNET</th>\n",
              "      <th>INTERNET_LUGAR</th>\n",
              "      <th>EQUIPO_COMPUTO</th>\n",
              "      <th>EQUIPO_COMPUTO_DESC</th>\n",
              "      <th>EXPERIENCIA_MODALIDAD</th>\n",
              "      <th>MODALIDAD_ESTUDIOS_BACHILLERATO</th>\n",
              "      <th>PROMEDIO_BACHILLERATO</th>\n",
              "      <th>HORAS_ESTUDIO_SEMANA</th>\n",
              "      <th>DISCAPACIDAD</th>\n",
              "      <th>PERIODO_ESCOLAR</th>\n",
              "      <th>ASIGNATURA</th>\n",
              "      <th>SEMESTRE</th>\n",
              "      <th>CALIFICACION</th>\n",
              "      <th>TIPO_CALIFICACIÓN</th>\n",
              "    </tr>\n",
              "  </thead>\n",
              "  <tbody>\n",
              "    <tr>\n",
              "      <th>0</th>\n",
              "      <td>Lic. en Mercadotecnia Internacional</td>\n",
              "      <td>1</td>\n",
              "      <td>0</td>\n",
              "      <td>0</td>\n",
              "      <td>3</td>\n",
              "      <td>0</td>\n",
              "      <td>0</td>\n",
              "      <td>1</td>\n",
              "      <td>5</td>\n",
              "      <td>1</td>\n",
              "      <td>0</td>\n",
              "      <td>1</td>\n",
              "      <td>5</td>\n",
              "      <td>0</td>\n",
              "      <td>1</td>\n",
              "      <td>2</td>\n",
              "      <td>3</td>\n",
              "      <td>0</td>\n",
              "      <td>0</td>\n",
              "      <td>Fundamentos de investigación</td>\n",
              "      <td>1</td>\n",
              "      <td>2</td>\n",
              "      <td>1</td>\n",
              "    </tr>\n",
              "    <tr>\n",
              "      <th>1</th>\n",
              "      <td>Lic. en Mercadotecnia Internacional</td>\n",
              "      <td>1</td>\n",
              "      <td>0</td>\n",
              "      <td>0</td>\n",
              "      <td>3</td>\n",
              "      <td>0</td>\n",
              "      <td>0</td>\n",
              "      <td>1</td>\n",
              "      <td>5</td>\n",
              "      <td>1</td>\n",
              "      <td>0</td>\n",
              "      <td>1</td>\n",
              "      <td>5</td>\n",
              "      <td>0</td>\n",
              "      <td>1</td>\n",
              "      <td>2</td>\n",
              "      <td>3</td>\n",
              "      <td>0</td>\n",
              "      <td>0</td>\n",
              "      <td>Fundamentos de administración</td>\n",
              "      <td>1</td>\n",
              "      <td>2</td>\n",
              "      <td>1</td>\n",
              "    </tr>\n",
              "    <tr>\n",
              "      <th>2</th>\n",
              "      <td>Lic. en Mercadotecnia Internacional</td>\n",
              "      <td>1</td>\n",
              "      <td>0</td>\n",
              "      <td>0</td>\n",
              "      <td>3</td>\n",
              "      <td>0</td>\n",
              "      <td>0</td>\n",
              "      <td>1</td>\n",
              "      <td>5</td>\n",
              "      <td>1</td>\n",
              "      <td>0</td>\n",
              "      <td>1</td>\n",
              "      <td>5</td>\n",
              "      <td>0</td>\n",
              "      <td>1</td>\n",
              "      <td>2</td>\n",
              "      <td>3</td>\n",
              "      <td>0</td>\n",
              "      <td>0</td>\n",
              "      <td>Contexto socioeconómico de México</td>\n",
              "      <td>1</td>\n",
              "      <td>2</td>\n",
              "      <td>1</td>\n",
              "    </tr>\n",
              "    <tr>\n",
              "      <th>3</th>\n",
              "      <td>Lic. en Mercadotecnia Internacional</td>\n",
              "      <td>1</td>\n",
              "      <td>0</td>\n",
              "      <td>0</td>\n",
              "      <td>3</td>\n",
              "      <td>0</td>\n",
              "      <td>0</td>\n",
              "      <td>1</td>\n",
              "      <td>5</td>\n",
              "      <td>1</td>\n",
              "      <td>0</td>\n",
              "      <td>1</td>\n",
              "      <td>5</td>\n",
              "      <td>0</td>\n",
              "      <td>1</td>\n",
              "      <td>2</td>\n",
              "      <td>3</td>\n",
              "      <td>0</td>\n",
              "      <td>0</td>\n",
              "      <td>Introducción a la contabilidad</td>\n",
              "      <td>1</td>\n",
              "      <td>2</td>\n",
              "      <td>1</td>\n",
              "    </tr>\n",
              "    <tr>\n",
              "      <th>4</th>\n",
              "      <td>Lic. en Mercadotecnia Internacional</td>\n",
              "      <td>1</td>\n",
              "      <td>0</td>\n",
              "      <td>0</td>\n",
              "      <td>3</td>\n",
              "      <td>0</td>\n",
              "      <td>0</td>\n",
              "      <td>1</td>\n",
              "      <td>5</td>\n",
              "      <td>1</td>\n",
              "      <td>0</td>\n",
              "      <td>1</td>\n",
              "      <td>5</td>\n",
              "      <td>0</td>\n",
              "      <td>1</td>\n",
              "      <td>2</td>\n",
              "      <td>3</td>\n",
              "      <td>0</td>\n",
              "      <td>1</td>\n",
              "      <td>Introducción al derecho</td>\n",
              "      <td>2</td>\n",
              "      <td>2</td>\n",
              "      <td>1</td>\n",
              "    </tr>\n",
              "  </tbody>\n",
              "</table>\n",
              "</div>"
            ],
            "text/plain": [
              "                    PROGRAMA_EDUCATIVO  ...  TIPO_CALIFICACIÓN\n",
              "0  Lic. en Mercadotecnia Internacional  ...                  1\n",
              "1  Lic. en Mercadotecnia Internacional  ...                  1\n",
              "2  Lic. en Mercadotecnia Internacional  ...                  1\n",
              "3  Lic. en Mercadotecnia Internacional  ...                  1\n",
              "4  Lic. en Mercadotecnia Internacional  ...                  1\n",
              "\n",
              "[5 rows x 23 columns]"
            ]
          },
          "metadata": {},
          "execution_count": 27
        }
      ]
    },
    {
      "cell_type": "code",
      "metadata": {
        "id": "rywvU9Fg1ZUg"
      },
      "source": [
        "print('columns',iris.columns)"
      ],
      "execution_count": null,
      "outputs": []
    },
    {
      "cell_type": "code",
      "metadata": {
        "id": "oW14n0fszvoY",
        "colab": {
          "base_uri": "https://localhost:8080/",
          "height": 206
        },
        "outputId": "4b5216b7-2fbc-4201-8b89-056d0dc109d9"
      },
      "source": [
        "X_bones = iris.loc[:,iris.columns[0:21]]\n",
        "\n",
        "# Quitar variables categoricas\n",
        "X_bones = X_bones.drop(columns=['PROGRAMA_EDUCATIVO'])\n",
        "X_bones = X_bones.drop(columns=['ASIGNATURA'])\n",
        "\n",
        "# Quitar variables no relevantes, comentar para agregar mas variables\n",
        "X_bones = X_bones.drop(columns=['DISCAPACIDAD'])\n",
        "X_bones = X_bones.drop(columns=['TRABAJA'])\n",
        "X_bones = X_bones.drop(columns=['DIVISION'])\n",
        "#X_bones = X_bones.drop(columns=['ESTADO_CIVIL'])\n",
        "X_bones = X_bones.drop(columns=['INTERNET'])\n",
        "X_bones = X_bones.drop(columns=['INTERNET_LUGAR'])\n",
        "X_bones = X_bones.drop(columns=['EQUIPO_COMPUTO'])\n",
        "X_bones = X_bones.drop(columns=['EQUIPO_COMPUTO_DESC'])\n",
        "X_bones = X_bones.drop(columns=['EXPERIENCIA_MODALIDAD'])\n",
        "X_bones = X_bones.drop(columns=['NUMERO_HIJOS'])\n",
        "#X_bones = X_bones.drop(columns=['SOSTEN_ECONOMICO'])\n",
        "#X_bones = X_bones.drop(columns=['EDAD'])\n",
        "X_bones = X_bones.drop(columns=['NIVEL_EDUCATIVO'])\n",
        "\n",
        "\n",
        "# Variable a predecir\n",
        "X_bones = X_bones.drop(columns=['ESTADO_CIVIL'])\n",
        "y_bones = iris.loc[:, 'ESTADO_CIVIL']\n",
        "\n",
        "X_bones.head()"
      ],
      "execution_count": 123,
      "outputs": [
        {
          "output_type": "execute_result",
          "data": {
            "text/html": [
              "<div>\n",
              "<style scoped>\n",
              "    .dataframe tbody tr th:only-of-type {\n",
              "        vertical-align: middle;\n",
              "    }\n",
              "\n",
              "    .dataframe tbody tr th {\n",
              "        vertical-align: top;\n",
              "    }\n",
              "\n",
              "    .dataframe thead th {\n",
              "        text-align: right;\n",
              "    }\n",
              "</style>\n",
              "<table border=\"1\" class=\"dataframe\">\n",
              "  <thead>\n",
              "    <tr style=\"text-align: right;\">\n",
              "      <th></th>\n",
              "      <th>SEXO</th>\n",
              "      <th>EDAD</th>\n",
              "      <th>SOSTEN_ECONOMICO</th>\n",
              "      <th>MODALIDAD_ESTUDIOS_BACHILLERATO</th>\n",
              "      <th>PROMEDIO_BACHILLERATO</th>\n",
              "      <th>HORAS_ESTUDIO_SEMANA</th>\n",
              "      <th>PERIODO_ESCOLAR</th>\n",
              "      <th>SEMESTRE</th>\n",
              "    </tr>\n",
              "  </thead>\n",
              "  <tbody>\n",
              "    <tr>\n",
              "      <th>0</th>\n",
              "      <td>0</td>\n",
              "      <td>3</td>\n",
              "      <td>5</td>\n",
              "      <td>1</td>\n",
              "      <td>2</td>\n",
              "      <td>3</td>\n",
              "      <td>0</td>\n",
              "      <td>1</td>\n",
              "    </tr>\n",
              "    <tr>\n",
              "      <th>1</th>\n",
              "      <td>0</td>\n",
              "      <td>3</td>\n",
              "      <td>5</td>\n",
              "      <td>1</td>\n",
              "      <td>2</td>\n",
              "      <td>3</td>\n",
              "      <td>0</td>\n",
              "      <td>1</td>\n",
              "    </tr>\n",
              "    <tr>\n",
              "      <th>2</th>\n",
              "      <td>0</td>\n",
              "      <td>3</td>\n",
              "      <td>5</td>\n",
              "      <td>1</td>\n",
              "      <td>2</td>\n",
              "      <td>3</td>\n",
              "      <td>0</td>\n",
              "      <td>1</td>\n",
              "    </tr>\n",
              "    <tr>\n",
              "      <th>3</th>\n",
              "      <td>0</td>\n",
              "      <td>3</td>\n",
              "      <td>5</td>\n",
              "      <td>1</td>\n",
              "      <td>2</td>\n",
              "      <td>3</td>\n",
              "      <td>0</td>\n",
              "      <td>1</td>\n",
              "    </tr>\n",
              "    <tr>\n",
              "      <th>4</th>\n",
              "      <td>0</td>\n",
              "      <td>3</td>\n",
              "      <td>5</td>\n",
              "      <td>1</td>\n",
              "      <td>2</td>\n",
              "      <td>3</td>\n",
              "      <td>1</td>\n",
              "      <td>2</td>\n",
              "    </tr>\n",
              "  </tbody>\n",
              "</table>\n",
              "</div>"
            ],
            "text/plain": [
              "   SEXO  EDAD  ...  PERIODO_ESCOLAR  SEMESTRE\n",
              "0     0     3  ...                0         1\n",
              "1     0     3  ...                0         1\n",
              "2     0     3  ...                0         1\n",
              "3     0     3  ...                0         1\n",
              "4     0     3  ...                1         2\n",
              "\n",
              "[5 rows x 8 columns]"
            ]
          },
          "metadata": {},
          "execution_count": 123
        }
      ]
    },
    {
      "cell_type": "code",
      "metadata": {
        "id": "Kbj4very62Pj"
      },
      "source": [
        "from sklearn.model_selection import train_test_split\n",
        "Xtrain, Xtest, ytrain, ytest = train_test_split(X_bones, y_bones, random_state=1)"
      ],
      "execution_count": 118,
      "outputs": []
    },
    {
      "cell_type": "code",
      "metadata": {
        "id": "1vMK6Ezk657w"
      },
      "source": [
        "from sklearn.naive_bayes import GaussianNB #naivebayes \n",
        "model = GaussianNB()    "
      ],
      "execution_count": 119,
      "outputs": []
    },
    {
      "cell_type": "code",
      "metadata": {
        "colab": {
          "base_uri": "https://localhost:8080/"
        },
        "id": "JvgH1D4169Z_",
        "outputId": "52941cda-fcc8-4a34-ddca-f68dc968caec"
      },
      "source": [
        "# Entrenamiento\n",
        "\n",
        "model.fit(Xtrain, ytrain)  "
      ],
      "execution_count": 120,
      "outputs": [
        {
          "output_type": "execute_result",
          "data": {
            "text/plain": [
              "GaussianNB()"
            ]
          },
          "metadata": {},
          "execution_count": 120
        }
      ]
    },
    {
      "cell_type": "code",
      "metadata": {
        "id": "e26sXYpI7DAA"
      },
      "source": [
        "# Predecir\n",
        "\n",
        "y_model = model.predict(Xtest)   "
      ],
      "execution_count": 121,
      "outputs": []
    },
    {
      "cell_type": "markdown",
      "metadata": {
        "id": "U8i5DQKc7hDJ"
      },
      "source": [
        "Intento 1 - 43.89% - Predicir EDAD\n",
        "    "
      ]
    },
    {
      "cell_type": "markdown",
      "metadata": {
        "id": "Lqp2gsTv74qc"
      },
      "source": [
        "Intento 2 - 43.83% Se agrego el estado civil - Predecir EDAD"
      ]
    },
    {
      "cell_type": "markdown",
      "metadata": {
        "id": "YUPT5utF8u69"
      },
      "source": [
        "Intento 3 - 42.43% - Predecir SEMESTRE"
      ]
    },
    {
      "cell_type": "markdown",
      "metadata": {
        "id": "9P8HGLHS9wQb"
      },
      "source": [
        "Intento 4 - 49.04% - Predecir ESTADO CIVIL"
      ]
    },
    {
      "cell_type": "markdown",
      "metadata": {
        "id": "j7FrllDo_pPb"
      },
      "source": [
        "Intento 5 - 50.51% - Predecir ESTADO CIVIL - Se elimino NIVEL EDUCATIVO"
      ]
    },
    {
      "cell_type": "code",
      "metadata": {
        "colab": {
          "base_uri": "https://localhost:8080/"
        },
        "id": "eNHXjVfC7G0r",
        "outputId": "21cf21c5-006a-42e0-9232-9f70cd833de1"
      },
      "source": [
        "# Evaluacion\n",
        "\n",
        "from sklearn.metrics import accuracy_score\n",
        "accuracy_score(ytest, y_model)\n",
        "\n",
        "#\n",
        "# 1 = 100% accuracy\n",
        "#"
      ],
      "execution_count": 122,
      "outputs": [
        {
          "output_type": "execute_result",
          "data": {
            "text/plain": [
              "0.5049884197398895"
            ]
          },
          "metadata": {},
          "execution_count": 122
        }
      ]
    },
    {
      "cell_type": "code",
      "metadata": {
        "colab": {
          "base_uri": "https://localhost:8080/",
          "height": 554
        },
        "id": "Bj1z74ODCB62",
        "outputId": "b23201bb-139f-441e-b77f-0de9601f7a92"
      },
      "source": [
        "%load_ext watermark\n",
        "\n",
        "%watermark -v -m -p pandas\n",
        "\n",
        "print(\" \")\n",
        "\n",
        "%watermark -u -n -t -z"
      ],
      "execution_count": 125,
      "outputs": [
        {
          "output_type": "error",
          "ename": "ModuleNotFoundError",
          "evalue": "ignored",
          "traceback": [
            "\u001b[0;31m---------------------------------------------------------------------------\u001b[0m",
            "\u001b[0;31mModuleNotFoundError\u001b[0m                       Traceback (most recent call last)",
            "\u001b[0;32m<ipython-input-125-e516a00b2565>\u001b[0m in \u001b[0;36m<module>\u001b[0;34m()\u001b[0m\n\u001b[0;32m----> 1\u001b[0;31m \u001b[0mget_ipython\u001b[0m\u001b[0;34m(\u001b[0m\u001b[0;34m)\u001b[0m\u001b[0;34m.\u001b[0m\u001b[0mmagic\u001b[0m\u001b[0;34m(\u001b[0m\u001b[0;34m'load_ext watermark'\u001b[0m\u001b[0;34m)\u001b[0m\u001b[0;34m\u001b[0m\u001b[0;34m\u001b[0m\u001b[0m\n\u001b[0m\u001b[1;32m      2\u001b[0m \u001b[0;34m\u001b[0m\u001b[0m\n\u001b[1;32m      3\u001b[0m \u001b[0mget_ipython\u001b[0m\u001b[0;34m(\u001b[0m\u001b[0;34m)\u001b[0m\u001b[0;34m.\u001b[0m\u001b[0mmagic\u001b[0m\u001b[0;34m(\u001b[0m\u001b[0;34m'watermark -v -m -p pandas'\u001b[0m\u001b[0;34m)\u001b[0m\u001b[0;34m\u001b[0m\u001b[0;34m\u001b[0m\u001b[0m\n\u001b[1;32m      4\u001b[0m \u001b[0;34m\u001b[0m\u001b[0m\n\u001b[1;32m      5\u001b[0m \u001b[0mprint\u001b[0m\u001b[0;34m(\u001b[0m\u001b[0;34m\" \"\u001b[0m\u001b[0;34m)\u001b[0m\u001b[0;34m\u001b[0m\u001b[0;34m\u001b[0m\u001b[0m\n",
            "\u001b[0;32m/usr/local/lib/python3.7/dist-packages/IPython/core/interactiveshell.py\u001b[0m in \u001b[0;36mmagic\u001b[0;34m(self, arg_s)\u001b[0m\n\u001b[1;32m   2158\u001b[0m         \u001b[0mmagic_name\u001b[0m\u001b[0;34m,\u001b[0m \u001b[0m_\u001b[0m\u001b[0;34m,\u001b[0m \u001b[0mmagic_arg_s\u001b[0m \u001b[0;34m=\u001b[0m \u001b[0marg_s\u001b[0m\u001b[0;34m.\u001b[0m\u001b[0mpartition\u001b[0m\u001b[0;34m(\u001b[0m\u001b[0;34m' '\u001b[0m\u001b[0;34m)\u001b[0m\u001b[0;34m\u001b[0m\u001b[0;34m\u001b[0m\u001b[0m\n\u001b[1;32m   2159\u001b[0m         \u001b[0mmagic_name\u001b[0m \u001b[0;34m=\u001b[0m \u001b[0mmagic_name\u001b[0m\u001b[0;34m.\u001b[0m\u001b[0mlstrip\u001b[0m\u001b[0;34m(\u001b[0m\u001b[0mprefilter\u001b[0m\u001b[0;34m.\u001b[0m\u001b[0mESC_MAGIC\u001b[0m\u001b[0;34m)\u001b[0m\u001b[0;34m\u001b[0m\u001b[0;34m\u001b[0m\u001b[0m\n\u001b[0;32m-> 2160\u001b[0;31m         \u001b[0;32mreturn\u001b[0m \u001b[0mself\u001b[0m\u001b[0;34m.\u001b[0m\u001b[0mrun_line_magic\u001b[0m\u001b[0;34m(\u001b[0m\u001b[0mmagic_name\u001b[0m\u001b[0;34m,\u001b[0m \u001b[0mmagic_arg_s\u001b[0m\u001b[0;34m)\u001b[0m\u001b[0;34m\u001b[0m\u001b[0;34m\u001b[0m\u001b[0m\n\u001b[0m\u001b[1;32m   2161\u001b[0m \u001b[0;34m\u001b[0m\u001b[0m\n\u001b[1;32m   2162\u001b[0m     \u001b[0;31m#-------------------------------------------------------------------------\u001b[0m\u001b[0;34m\u001b[0m\u001b[0;34m\u001b[0m\u001b[0;34m\u001b[0m\u001b[0m\n",
            "\u001b[0;32m/usr/local/lib/python3.7/dist-packages/IPython/core/interactiveshell.py\u001b[0m in \u001b[0;36mrun_line_magic\u001b[0;34m(self, magic_name, line)\u001b[0m\n\u001b[1;32m   2079\u001b[0m                 \u001b[0mkwargs\u001b[0m\u001b[0;34m[\u001b[0m\u001b[0;34m'local_ns'\u001b[0m\u001b[0;34m]\u001b[0m \u001b[0;34m=\u001b[0m \u001b[0msys\u001b[0m\u001b[0;34m.\u001b[0m\u001b[0m_getframe\u001b[0m\u001b[0;34m(\u001b[0m\u001b[0mstack_depth\u001b[0m\u001b[0;34m)\u001b[0m\u001b[0;34m.\u001b[0m\u001b[0mf_locals\u001b[0m\u001b[0;34m\u001b[0m\u001b[0;34m\u001b[0m\u001b[0m\n\u001b[1;32m   2080\u001b[0m             \u001b[0;32mwith\u001b[0m \u001b[0mself\u001b[0m\u001b[0;34m.\u001b[0m\u001b[0mbuiltin_trap\u001b[0m\u001b[0;34m:\u001b[0m\u001b[0;34m\u001b[0m\u001b[0;34m\u001b[0m\u001b[0m\n\u001b[0;32m-> 2081\u001b[0;31m                 \u001b[0mresult\u001b[0m \u001b[0;34m=\u001b[0m \u001b[0mfn\u001b[0m\u001b[0;34m(\u001b[0m\u001b[0;34m*\u001b[0m\u001b[0margs\u001b[0m\u001b[0;34m,\u001b[0m\u001b[0;34m**\u001b[0m\u001b[0mkwargs\u001b[0m\u001b[0;34m)\u001b[0m\u001b[0;34m\u001b[0m\u001b[0;34m\u001b[0m\u001b[0m\n\u001b[0m\u001b[1;32m   2082\u001b[0m             \u001b[0;32mreturn\u001b[0m \u001b[0mresult\u001b[0m\u001b[0;34m\u001b[0m\u001b[0;34m\u001b[0m\u001b[0m\n\u001b[1;32m   2083\u001b[0m \u001b[0;34m\u001b[0m\u001b[0m\n",
            "\u001b[0;32m<decorator-gen-56>\u001b[0m in \u001b[0;36mload_ext\u001b[0;34m(self, module_str)\u001b[0m\n",
            "\u001b[0;32m/usr/local/lib/python3.7/dist-packages/IPython/core/magic.py\u001b[0m in \u001b[0;36m<lambda>\u001b[0;34m(f, *a, **k)\u001b[0m\n\u001b[1;32m    186\u001b[0m     \u001b[0;31m# but it's overkill for just that one bit of state.\u001b[0m\u001b[0;34m\u001b[0m\u001b[0;34m\u001b[0m\u001b[0;34m\u001b[0m\u001b[0m\n\u001b[1;32m    187\u001b[0m     \u001b[0;32mdef\u001b[0m \u001b[0mmagic_deco\u001b[0m\u001b[0;34m(\u001b[0m\u001b[0marg\u001b[0m\u001b[0;34m)\u001b[0m\u001b[0;34m:\u001b[0m\u001b[0;34m\u001b[0m\u001b[0;34m\u001b[0m\u001b[0m\n\u001b[0;32m--> 188\u001b[0;31m         \u001b[0mcall\u001b[0m \u001b[0;34m=\u001b[0m \u001b[0;32mlambda\u001b[0m \u001b[0mf\u001b[0m\u001b[0;34m,\u001b[0m \u001b[0;34m*\u001b[0m\u001b[0ma\u001b[0m\u001b[0;34m,\u001b[0m \u001b[0;34m**\u001b[0m\u001b[0mk\u001b[0m\u001b[0;34m:\u001b[0m \u001b[0mf\u001b[0m\u001b[0;34m(\u001b[0m\u001b[0;34m*\u001b[0m\u001b[0ma\u001b[0m\u001b[0;34m,\u001b[0m \u001b[0;34m**\u001b[0m\u001b[0mk\u001b[0m\u001b[0;34m)\u001b[0m\u001b[0;34m\u001b[0m\u001b[0;34m\u001b[0m\u001b[0m\n\u001b[0m\u001b[1;32m    189\u001b[0m \u001b[0;34m\u001b[0m\u001b[0m\n\u001b[1;32m    190\u001b[0m         \u001b[0;32mif\u001b[0m \u001b[0mcallable\u001b[0m\u001b[0;34m(\u001b[0m\u001b[0marg\u001b[0m\u001b[0;34m)\u001b[0m\u001b[0;34m:\u001b[0m\u001b[0;34m\u001b[0m\u001b[0;34m\u001b[0m\u001b[0m\n",
            "\u001b[0;32m/usr/local/lib/python3.7/dist-packages/IPython/core/magics/extension.py\u001b[0m in \u001b[0;36mload_ext\u001b[0;34m(self, module_str)\u001b[0m\n\u001b[1;32m     35\u001b[0m         \u001b[0;32mif\u001b[0m \u001b[0;32mnot\u001b[0m \u001b[0mmodule_str\u001b[0m\u001b[0;34m:\u001b[0m\u001b[0;34m\u001b[0m\u001b[0;34m\u001b[0m\u001b[0m\n\u001b[1;32m     36\u001b[0m             \u001b[0;32mraise\u001b[0m \u001b[0mUsageError\u001b[0m\u001b[0;34m(\u001b[0m\u001b[0;34m'Missing module name.'\u001b[0m\u001b[0;34m)\u001b[0m\u001b[0;34m\u001b[0m\u001b[0;34m\u001b[0m\u001b[0m\n\u001b[0;32m---> 37\u001b[0;31m         \u001b[0mres\u001b[0m \u001b[0;34m=\u001b[0m \u001b[0mself\u001b[0m\u001b[0;34m.\u001b[0m\u001b[0mshell\u001b[0m\u001b[0;34m.\u001b[0m\u001b[0mextension_manager\u001b[0m\u001b[0;34m.\u001b[0m\u001b[0mload_extension\u001b[0m\u001b[0;34m(\u001b[0m\u001b[0mmodule_str\u001b[0m\u001b[0;34m)\u001b[0m\u001b[0;34m\u001b[0m\u001b[0;34m\u001b[0m\u001b[0m\n\u001b[0m\u001b[1;32m     38\u001b[0m \u001b[0;34m\u001b[0m\u001b[0m\n\u001b[1;32m     39\u001b[0m         \u001b[0;32mif\u001b[0m \u001b[0mres\u001b[0m \u001b[0;34m==\u001b[0m \u001b[0;34m'already loaded'\u001b[0m\u001b[0;34m:\u001b[0m\u001b[0;34m\u001b[0m\u001b[0;34m\u001b[0m\u001b[0m\n",
            "\u001b[0;32m/usr/local/lib/python3.7/dist-packages/IPython/core/extensions.py\u001b[0m in \u001b[0;36mload_extension\u001b[0;34m(self, module_str)\u001b[0m\n\u001b[1;32m     81\u001b[0m             \u001b[0;32mif\u001b[0m \u001b[0mmodule_str\u001b[0m \u001b[0;32mnot\u001b[0m \u001b[0;32min\u001b[0m \u001b[0msys\u001b[0m\u001b[0;34m.\u001b[0m\u001b[0mmodules\u001b[0m\u001b[0;34m:\u001b[0m\u001b[0;34m\u001b[0m\u001b[0;34m\u001b[0m\u001b[0m\n\u001b[1;32m     82\u001b[0m                 \u001b[0;32mwith\u001b[0m \u001b[0mprepended_to_syspath\u001b[0m\u001b[0;34m(\u001b[0m\u001b[0mself\u001b[0m\u001b[0;34m.\u001b[0m\u001b[0mipython_extension_dir\u001b[0m\u001b[0;34m)\u001b[0m\u001b[0;34m:\u001b[0m\u001b[0;34m\u001b[0m\u001b[0;34m\u001b[0m\u001b[0m\n\u001b[0;32m---> 83\u001b[0;31m                     \u001b[0m__import__\u001b[0m\u001b[0;34m(\u001b[0m\u001b[0mmodule_str\u001b[0m\u001b[0;34m)\u001b[0m\u001b[0;34m\u001b[0m\u001b[0;34m\u001b[0m\u001b[0m\n\u001b[0m\u001b[1;32m     84\u001b[0m             \u001b[0mmod\u001b[0m \u001b[0;34m=\u001b[0m \u001b[0msys\u001b[0m\u001b[0;34m.\u001b[0m\u001b[0mmodules\u001b[0m\u001b[0;34m[\u001b[0m\u001b[0mmodule_str\u001b[0m\u001b[0;34m]\u001b[0m\u001b[0;34m\u001b[0m\u001b[0;34m\u001b[0m\u001b[0m\n\u001b[1;32m     85\u001b[0m             \u001b[0;32mif\u001b[0m \u001b[0mself\u001b[0m\u001b[0;34m.\u001b[0m\u001b[0m_call_load_ipython_extension\u001b[0m\u001b[0;34m(\u001b[0m\u001b[0mmod\u001b[0m\u001b[0;34m)\u001b[0m\u001b[0;34m:\u001b[0m\u001b[0;34m\u001b[0m\u001b[0;34m\u001b[0m\u001b[0m\n",
            "\u001b[0;31mModuleNotFoundError\u001b[0m: No module named 'watermark'",
            "",
            "\u001b[0;31m---------------------------------------------------------------------------\u001b[0;32m\nNOTE: If your import is failing due to a missing package, you can\nmanually install dependencies using either !pip or !apt.\n\nTo view examples of installing some common dependencies, click the\n\"Open Examples\" button below.\n\u001b[0;31m---------------------------------------------------------------------------\u001b[0m\n"
          ],
          "errorDetails": {
            "actions": [
              {
                "action": "open_url",
                "actionText": "Open Examples",
                "url": "/notebooks/snippets/importing_libraries.ipynb"
              }
            ]
          }
        }
      ]
    }
  ]
}